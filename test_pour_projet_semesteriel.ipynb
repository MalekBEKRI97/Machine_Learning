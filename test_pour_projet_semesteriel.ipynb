{
  "nbformat": 4,
  "nbformat_minor": 0,
  "metadata": {
    "colab": {
      "name": "test pour projet semesteriel.ipynb",
      "provenance": [],
      "collapsed_sections": [
        "jhy2mqoBFvdj",
        "boGpM6WhntiU"
      ],
      "include_colab_link": true
    },
    "kernelspec": {
      "name": "python3",
      "display_name": "Python 3"
    },
    "language_info": {
      "name": "python"
    }
  },
  "cells": [
    {
      "cell_type": "markdown",
      "metadata": {
        "id": "view-in-github",
        "colab_type": "text"
      },
      "source": [
        "<a href=\"https://colab.research.google.com/github/MalekBEKRI97/Machine_Learning/blob/main/test_pour_projet_semesteriel.ipynb\" target=\"_parent\"><img src=\"https://colab.research.google.com/assets/colab-badge.svg\" alt=\"Open In Colab\"/></a>"
      ]
    },
    {
      "cell_type": "markdown",
      "metadata": {
        "id": "A1SoH1H6N9YP"
      },
      "source": [
        "## Part 1: Google Colab"
      ]
    },
    {
      "cell_type": "code",
      "metadata": {
        "id": "y_-Gn5FmKstq"
      },
      "source": [
        "# Colab yista3mel seulement Python 3\n",
        "number = 103\n",
        "number += 1\n",
        "print(number)"
      ],
      "execution_count": null,
      "outputs": []
    },
    {
      "cell_type": "code",
      "metadata": {
        "id": "i9wZDdhkLqDS"
      },
      "source": [
        "# Najem nista3mel les fonctions linux, lezim juste nzid 9balhom symbole !\n",
        "# fama des commandes simples tist7a9ech fehom symbol, mais ki twali compliqué tist7a9\n",
        "# Puisque Colab dima ya3mlou fi des updates, maybe ma3ach nist7a9ou"
      ],
      "execution_count": null,
      "outputs": []
    },
    {
      "cell_type": "code",
      "metadata": {
        "id": "XCZbzf7HNVs0"
      },
      "source": [
        "# fama code snippets 3al isar tnajem tjib minhom codet 7adhra\n",
        "# fama files and folders tnajem thot fehom les fichiers w tuploadi etc."
      ],
      "execution_count": null,
      "outputs": []
    },
    {
      "cell_type": "code",
      "metadata": {
        "id": "x7WzOGFlOvRU"
      },
      "source": [
        "# kol ma ta3mel connecté, il session hedhi ma idoum ken 12 se3a w ba3dha t9oss\n",
        "# t9oss ma3netha lezim t3awed ta3mel connecté w tikhsir les fichiers te3ik du coup lezim t3awid tuploadi\n",
        "\n",
        "# t9oss zeda ki tab9a se3a maghir ma t7arik chay (idle)\n",
        "# code js t7otou fil console ya3mel simulation click \n",
        "# https://www.codegrepper.com/code-examples/go/prevent+colab+from+disconnecting"
      ],
      "execution_count": null,
      "outputs": []
    },
    {
      "cell_type": "code",
      "metadata": {
        "id": "UhixykcAP8N9"
      },
      "source": [
        "# bch nwali nikhdim 3al GPU, nimchi Runtime -> Change Runtime Type -> GPU\n",
        "# bch narja3 CPU, Runtime -> Change Runtime Type -> None\n",
        "# najmou na3mlou !nivida-smi bch nchoufou ken 3ana GPU wale\n",
        "!nvidia-smi\n",
        "# ken 3Malt hal commande w tjik erreur \"failed to\" rak en mode cpu, badel gpu"
      ],
      "execution_count": null,
      "outputs": []
    },
    {
      "cell_type": "markdown",
      "metadata": {
        "id": "ZJQwY2sbRDgl"
      },
      "source": [
        "## Part 2: Data Science"
      ]
    },
    {
      "cell_type": "code",
      "metadata": {
        "id": "z-zwiU-cRQYe"
      },
      "source": [
        "import pandas"
      ],
      "execution_count": null,
      "outputs": []
    },
    {
      "cell_type": "code",
      "metadata": {
        "id": "3RQBkdBpR6zC"
      },
      "source": [
        "# read_csv ta9ra fichier csv cheya7 w trodou fi haja ismha dataframe\n",
        "# li hiya variable feha barcha des méthodes 7adhra ise3douna\n",
        "\n",
        "# najem soit na3ti lien lil fichier mil pc te3i wala lien min fichier mil web\n",
        "#dataset = pandas.read_csv('pokedex.csv')\n",
        "dataset = pandas.read_csv(\"https://raw.githubusercontent.com/elyesmanai/Datasets-for-ML-trainings/main/pokedex_(Update_05.20).csv\")\n",
        "\n",
        "# pandas 3andha barcha anwe3 ta3 read, selon type de fichier te3ik"
      ],
      "execution_count": null,
      "outputs": []
    },
    {
      "cell_type": "code",
      "metadata": {
        "colab": {
          "base_uri": "https://localhost:8080/"
        },
        "id": "GMACj03fTtDF",
        "outputId": "e4520fff-9a5d-4548-edfc-27a1a812128d"
      },
      "source": [
        "# n7ib na3ref 9adeh 3andi min lignes w colonnes\n",
        "dataset.shape # ta3tini (lignes, colonnes)"
      ],
      "execution_count": null,
      "outputs": [
        {
          "output_type": "execute_result",
          "data": {
            "text/plain": [
              "(1028, 51)"
            ]
          },
          "metadata": {
            "tags": []
          },
          "execution_count": 27
        }
      ]
    },
    {
      "cell_type": "code",
      "metadata": {
        "colab": {
          "base_uri": "https://localhost:8080/"
        },
        "id": "n2fXZSCOVTIO",
        "outputId": "79257e6e-3a68-49ee-fad8-320bf1dac489"
      },
      "source": [
        "# dataset.columns ta3tina esemi les colonnes lkol\n",
        "dataset.columns"
      ],
      "execution_count": null,
      "outputs": [
        {
          "output_type": "execute_result",
          "data": {
            "text/plain": [
              "Index(['Unnamed: 0', 'pokedex_number', 'name', 'german_name', 'japanese_name',\n",
              "       'generation', 'status', 'species', 'type_number', 'type_1', 'type_2',\n",
              "       'height_m', 'weight_kg', 'abilities_number', 'ability_1', 'ability_2',\n",
              "       'ability_hidden', 'total_points', 'hp', 'attack', 'defense',\n",
              "       'sp_attack', 'sp_defense', 'speed', 'catch_rate', 'base_friendship',\n",
              "       'base_experience', 'growth_rate', 'egg_type_number', 'egg_type_1',\n",
              "       'egg_type_2', 'percentage_male', 'egg_cycles', 'against_normal',\n",
              "       'against_fire', 'against_water', 'against_electric', 'against_grass',\n",
              "       'against_ice', 'against_fight', 'against_poison', 'against_ground',\n",
              "       'against_flying', 'against_psychic', 'against_bug', 'against_rock',\n",
              "       'against_ghost', 'against_dragon', 'against_dark', 'against_steel',\n",
              "       'against_fairy'],\n",
              "      dtype='object')"
            ]
          },
          "metadata": {
            "tags": []
          },
          "execution_count": 4
        }
      ]
    },
    {
      "cell_type": "code",
      "metadata": {
        "id": "CSB7xZmQVrmw"
      },
      "source": [
        "# dataset.drop tfasakh des lignes wala des colonnes.\n",
        "# lezim awil parametre ikoun liste [] ta3 les colonnes, w ta3mel axis=1 bch ya3rfou anou colonnes\n",
        "# mahouch bch isir changement à moins que n9olou inplace=True wala na3mel dataset = dataset.drop()\n",
        "dataset.drop(['Unnamed: 0', 'pokedex_number', 'german_name', 'japanese_name'], axis=1, inplace=True)"
      ],
      "execution_count": null,
      "outputs": []
    },
    {
      "cell_type": "markdown",
      "metadata": {
        "id": "EI2ZfbmEXENX"
      },
      "source": [
        "**etape2:**\n",
        "\n",
        "- refaire le travail sur la meme dataset\n",
        "- refaire le travail sur une nouvelle dataset que vous choisirez"
      ]
    },
    {
      "cell_type": "code",
      "metadata": {
        "id": "kEv9tQg2YNom"
      },
      "source": [
        "# bch nra awil 5 lignes fil data\n",
        "dataset.head()\n",
        "# bch nra ekhir 5 lignes\n",
        "dataset.tail()\n",
        "# bch nra ligne au hasard\n",
        "dataset.sample()"
      ],
      "execution_count": null,
      "outputs": []
    },
    {
      "cell_type": "code",
      "metadata": {
        "colab": {
          "base_uri": "https://localhost:8080/"
        },
        "id": "0UNGNKhibMjA",
        "outputId": "da537457-cb73-487c-9a33-10fb5f443414"
      },
      "source": [
        "# info() ta3tini des informations mil bara 3al data\n",
        "# mil bara no9sdou nbr lignes, nbr colonnes, type\n",
        "# 3ala kol colonne 9adeh min valeure nulle et type de colonne\n",
        "# aussi 9adeh min type en total w 9adeh tekil en mémoire\n",
        "dataset.info()"
      ],
      "execution_count": null,
      "outputs": [
        {
          "output_type": "stream",
          "text": [
            "<class 'pandas.core.frame.DataFrame'>\n",
            "RangeIndex: 1028 entries, 0 to 1027\n",
            "Data columns (total 47 columns):\n",
            " #   Column            Non-Null Count  Dtype  \n",
            "---  ------            --------------  -----  \n",
            " 0   name              1028 non-null   object \n",
            " 1   generation        1028 non-null   int64  \n",
            " 2   status            1028 non-null   object \n",
            " 3   species           1028 non-null   object \n",
            " 4   type_number       1028 non-null   int64  \n",
            " 5   type_1            1028 non-null   object \n",
            " 6   type_2            542 non-null    object \n",
            " 7   height_m          1028 non-null   float64\n",
            " 8   weight_kg         1027 non-null   float64\n",
            " 9   abilities_number  1028 non-null   int64  \n",
            " 10  ability_1         1025 non-null   object \n",
            " 11  ability_2         513 non-null    object \n",
            " 12  ability_hidden    810 non-null    object \n",
            " 13  total_points      1028 non-null   float64\n",
            " 14  hp                1028 non-null   float64\n",
            " 15  attack            1028 non-null   float64\n",
            " 16  defense           1028 non-null   float64\n",
            " 17  sp_attack         1028 non-null   float64\n",
            " 18  sp_defense        1028 non-null   float64\n",
            " 19  speed             1028 non-null   float64\n",
            " 20  catch_rate        924 non-null    float64\n",
            " 21  base_friendship   924 non-null    float64\n",
            " 22  base_experience   924 non-null    float64\n",
            " 23  growth_rate       1027 non-null   object \n",
            " 24  egg_type_number   1028 non-null   int64  \n",
            " 25  egg_type_1        1025 non-null   object \n",
            " 26  egg_type_2        282 non-null    object \n",
            " 27  percentage_male   792 non-null    float64\n",
            " 28  egg_cycles        1027 non-null   float64\n",
            " 29  against_normal    1028 non-null   float64\n",
            " 30  against_fire      1028 non-null   float64\n",
            " 31  against_water     1028 non-null   float64\n",
            " 32  against_electric  1028 non-null   float64\n",
            " 33  against_grass     1028 non-null   float64\n",
            " 34  against_ice       1028 non-null   float64\n",
            " 35  against_fight     1028 non-null   float64\n",
            " 36  against_poison    1028 non-null   float64\n",
            " 37  against_ground    1028 non-null   float64\n",
            " 38  against_flying    1028 non-null   float64\n",
            " 39  against_psychic   1028 non-null   float64\n",
            " 40  against_bug       1028 non-null   float64\n",
            " 41  against_rock      1028 non-null   float64\n",
            " 42  against_ghost     1028 non-null   float64\n",
            " 43  against_dragon    1028 non-null   float64\n",
            " 44  against_dark      1028 non-null   float64\n",
            " 45  against_steel     1028 non-null   float64\n",
            " 46  against_fairy     1028 non-null   float64\n",
            "dtypes: float64(32), int64(4), object(11)\n",
            "memory usage: 377.6+ KB\n"
          ],
          "name": "stdout"
        }
      ]
    },
    {
      "cell_type": "code",
      "metadata": {
        "id": "WgHF-CP-cP75"
      },
      "source": [
        "# describe ta3tini des information mil dekhil il data\n",
        "# 3ala kol colonne, 9adeh min valeure, moyenne, std, valeur min, valeur max et distribution\n",
        "dataset.describe()"
      ],
      "execution_count": null,
      "outputs": []
    },
    {
      "cell_type": "code",
      "metadata": {
        "colab": {
          "base_uri": "https://localhost:8080/",
          "height": 212
        },
        "id": "Lea8Mx6Wc1wb",
        "outputId": "024331eb-d7a0-4cf9-e7d8-51f4dab75f1c"
      },
      "source": [
        "# najmou nzidou include=\"object\" li describe bch ntolou 3al colonnes li fehom texte\n",
        "dataset.describe(include=\"object\")"
      ],
      "execution_count": null,
      "outputs": [
        {
          "output_type": "execute_result",
          "data": {
            "text/html": [
              "<div>\n",
              "<style scoped>\n",
              "    .dataframe tbody tr th:only-of-type {\n",
              "        vertical-align: middle;\n",
              "    }\n",
              "\n",
              "    .dataframe tbody tr th {\n",
              "        vertical-align: top;\n",
              "    }\n",
              "\n",
              "    .dataframe thead th {\n",
              "        text-align: right;\n",
              "    }\n",
              "</style>\n",
              "<table border=\"1\" class=\"dataframe\">\n",
              "  <thead>\n",
              "    <tr style=\"text-align: right;\">\n",
              "      <th></th>\n",
              "      <th>name</th>\n",
              "      <th>status</th>\n",
              "      <th>species</th>\n",
              "      <th>type_1</th>\n",
              "      <th>type_2</th>\n",
              "      <th>ability_1</th>\n",
              "      <th>ability_2</th>\n",
              "      <th>ability_hidden</th>\n",
              "      <th>growth_rate</th>\n",
              "      <th>egg_type_1</th>\n",
              "      <th>egg_type_2</th>\n",
              "    </tr>\n",
              "  </thead>\n",
              "  <tbody>\n",
              "    <tr>\n",
              "      <th>count</th>\n",
              "      <td>1028</td>\n",
              "      <td>1028</td>\n",
              "      <td>1028</td>\n",
              "      <td>1028</td>\n",
              "      <td>542</td>\n",
              "      <td>1025</td>\n",
              "      <td>513</td>\n",
              "      <td>810</td>\n",
              "      <td>1027</td>\n",
              "      <td>1025</td>\n",
              "      <td>282</td>\n",
              "    </tr>\n",
              "    <tr>\n",
              "      <th>unique</th>\n",
              "      <td>1028</td>\n",
              "      <td>4</td>\n",
              "      <td>641</td>\n",
              "      <td>18</td>\n",
              "      <td>18</td>\n",
              "      <td>202</td>\n",
              "      <td>126</td>\n",
              "      <td>154</td>\n",
              "      <td>6</td>\n",
              "      <td>15</td>\n",
              "      <td>11</td>\n",
              "    </tr>\n",
              "    <tr>\n",
              "      <th>top</th>\n",
              "      <td>Skorupi</td>\n",
              "      <td>Normal</td>\n",
              "      <td>Mouse Pokémon</td>\n",
              "      <td>Water</td>\n",
              "      <td>Flying</td>\n",
              "      <td>Levitate</td>\n",
              "      <td>Frisk</td>\n",
              "      <td>Telepathy</td>\n",
              "      <td>Medium Fast</td>\n",
              "      <td>Field</td>\n",
              "      <td>Water 1</td>\n",
              "    </tr>\n",
              "    <tr>\n",
              "      <th>freq</th>\n",
              "      <td>1</td>\n",
              "      <td>915</td>\n",
              "      <td>12</td>\n",
              "      <td>134</td>\n",
              "      <td>109</td>\n",
              "      <td>41</td>\n",
              "      <td>17</td>\n",
              "      <td>21</td>\n",
              "      <td>432</td>\n",
              "      <td>258</td>\n",
              "      <td>76</td>\n",
              "    </tr>\n",
              "  </tbody>\n",
              "</table>\n",
              "</div>"
            ],
            "text/plain": [
              "           name  status        species  ...  growth_rate egg_type_1 egg_type_2\n",
              "count      1028    1028           1028  ...         1027       1025        282\n",
              "unique     1028       4            641  ...            6         15         11\n",
              "top     Skorupi  Normal  Mouse Pokémon  ...  Medium Fast      Field    Water 1\n",
              "freq          1     915             12  ...          432        258         76\n",
              "\n",
              "[4 rows x 11 columns]"
            ]
          },
          "metadata": {
            "tags": []
          },
          "execution_count": 42
        }
      ]
    },
    {
      "cell_type": "code",
      "metadata": {
        "id": "62JIfi-ndQQ3"
      },
      "source": [
        "dataset.dtypes #ta3tik les types bark"
      ],
      "execution_count": null,
      "outputs": []
    },
    {
      "cell_type": "code",
      "metadata": {
        "id": "V9VfVdk5eHw2"
      },
      "source": [
        "# isna() ta3tini ken valeur nulle ou pas.\n",
        "# isna().sum() ta3tini 3ala kol colonne 9adeh min valeur nulle\n",
        "# isna().sum().sum() ta3tini fil dataset lkolha 9adeh min valeur nulle\n",
        "dataset.isna().sum()\n",
        "\n",
        "# Merci Meriem pour la correction"
      ],
      "execution_count": null,
      "outputs": []
    },
    {
      "cell_type": "code",
      "metadata": {
        "id": "eHwY_7HThnQK"
      },
      "source": [
        "# NOTE: rodou belkom\n",
        "# fama marat les valeurs nulles maktoubin NaN en format texe, du coup ghalet fehom\n",
        "# najmou n7iloha b tari9 simple mais feature preprocessing mahouch fil object te3na tawa."
      ],
      "execution_count": null,
      "outputs": []
    },
    {
      "cell_type": "code",
      "metadata": {
        "id": "w6sjt2CnfS0e"
      },
      "source": [
        "# najem naccedi les valeures ta3 colonne en faisant dataframe[nom_colonne]\n",
        "dataset['generation']"
      ],
      "execution_count": null,
      "outputs": []
    },
    {
      "cell_type": "code",
      "metadata": {
        "colab": {
          "base_uri": "https://localhost:8080/"
        },
        "id": "E4t-0jN1f3Nm",
        "outputId": "414afca0-68a0-49ee-e941-db7d5f80c8ed"
      },
      "source": [
        "# najem na3ref les valeurs uniques fi une colonne avec unique()\n",
        "vals = dataset['generation'].unique()\n",
        "# najem na3ref 9adeh min valeur unique que nunique()\n",
        "nuni = dataset['generation'].nunique()\n",
        "print(vals, nuni)"
      ],
      "execution_count": null,
      "outputs": [
        {
          "output_type": "stream",
          "text": [
            "[1 2 3 4 5 6 7 8] 8\n"
          ],
          "name": "stdout"
        }
      ]
    },
    {
      "cell_type": "code",
      "metadata": {
        "id": "GWPUdciGgKgn"
      },
      "source": [
        "# tabdil nom des colonnes\n",
        "dataset.rename(columns={'generation':'gen'}, inplace=True)\n",
        "dataset.columns"
      ],
      "execution_count": null,
      "outputs": []
    },
    {
      "cell_type": "code",
      "metadata": {
        "id": "F33e8SPci4Wu"
      },
      "source": [
        "# tasna3 colonne jdida ta3mel dataset[ism_jdid] = valeur, valeur tnajem tkoun fonction\n",
        "dataset[\"semi_densité\"] = dataset['weight_kg'] / dataset['height_m']\n",
        "dataset['semi_densité']"
      ],
      "execution_count": null,
      "outputs": []
    },
    {
      "cell_type": "code",
      "metadata": {
        "id": "7hCvHnw7joYV"
      },
      "source": [
        "# filtering li howa ya3ni raja3li il jme3a ili 3andhom haka wala haka\n",
        "legends = dataset[ dataset['status'] == \"Legendary\" ]\n",
        "fake = dataset[ dataset['gen'] != 1 ]\n",
        "jbal = dataset[ dataset['height_m'] > 80 ]\n",
        "\n",
        "# filtering bou barcha conditions juste nzidou & (et) wala | (ou) mabinhom \n",
        "# w nhotou kol condition fi prenthèse\n",
        "dataset[ (dataset['status'] == \"Legendary\") & (dataset['gen'] != 1) | (dataset['gen'] != 1) ]"
      ],
      "execution_count": null,
      "outputs": []
    },
    {
      "cell_type": "code",
      "metadata": {
        "colab": {
          "base_uri": "https://localhost:8080/",
          "height": 282
        },
        "id": "4THQN_qvlUih",
        "outputId": "91b27b74-17cf-44ad-a7f5-efbd29535c73"
      },
      "source": [
        "dataset['attack'].plot()"
      ],
      "execution_count": null,
      "outputs": [
        {
          "output_type": "execute_result",
          "data": {
            "text/plain": [
              "<matplotlib.axes._subplots.AxesSubplot at 0x7f3038d0ad50>"
            ]
          },
          "metadata": {
            "tags": []
          },
          "execution_count": 10
        },
        {
          "output_type": "display_data",
          "data": {
            "image/png": "[encoded data removed]",
            "text/plain": [
              "<Figure size 432x288 with 1 Axes>"
            ]
          },
          "metadata": {
            "tags": [],
            "needs_background": "light"
          }
        }
      ]
    },
    {
      "cell_type": "code",
      "metadata": {
        "colab": {
          "base_uri": "https://localhost:8080/",
          "height": 282
        },
        "id": "d9KJpLbrmZQ1",
        "outputId": "5ec3a1fa-fbff-4d36-d107-430c0568b33a"
      },
      "source": [
        "dataset[dataset['height_m'] < 100 ]['height_m'].plot()"
      ],
      "execution_count": null,
      "outputs": [
        {
          "output_type": "execute_result",
          "data": {
            "text/plain": [
              "<matplotlib.axes._subplots.AxesSubplot at 0x7fe77297e710>"
            ]
          },
          "metadata": {
            "tags": []
          },
          "execution_count": 106
        },
        {
          "output_type": "display_data",
          "data": {
            "image/png": "[encoded data removed]",
            "text/plain": [
              "<Figure size 432x288 with 1 Axes>"
            ]
          },
          "metadata": {
            "tags": [],
            "needs_background": "light"
          }
        }
      ]
    },
    {
      "cell_type": "code",
      "metadata": {
        "colab": {
          "base_uri": "https://localhost:8080/",
          "height": 297
        },
        "id": "-msM1GeTmAYE",
        "outputId": "5bf1ca7f-563f-4ff8-988a-0583f374748c"
      },
      "source": [
        "dataset.plot(x=\"height_m\", y=\"weight_kg\", style=\"o\")"
      ],
      "execution_count": null,
      "outputs": [
        {
          "output_type": "execute_result",
          "data": {
            "text/plain": [
              "<matplotlib.axes._subplots.AxesSubplot at 0x7fe772664790>"
            ]
          },
          "metadata": {
            "tags": []
          },
          "execution_count": 104
        },
        {
          "output_type": "display_data",
          "data": {
            "image/png": "[encoded data removed]",
            "text/plain": [
              "<Figure size 432x288 with 1 Axes>"
            ]
          },
          "metadata": {
            "tags": [],
            "needs_background": "light"
          }
        }
      ]
    },
    {
      "cell_type": "code",
      "metadata": {
        "id": "WlmsiX8KgesK"
      },
      "source": [
        "dataset.to_csv('new_pokedex.csv',index=False)"
      ],
      "execution_count": null,
      "outputs": []
    },
    {
      "cell_type": "code",
      "metadata": {
        "id": "eWqd7cVLmqwc"
      },
      "source": [
        "pandas.read_csv('new_pokedex.csv')"
      ],
      "execution_count": null,
      "outputs": []
    },
    {
      "cell_type": "markdown",
      "metadata": {
        "id": "Ja6_4jGJwBJv"
      },
      "source": [
        "Pour plus de visualisation, check seaborn / matplotlib "
      ]
    },
    {
      "cell_type": "markdown",
      "metadata": {
        "id": "zl3AmK5ev76K"
      },
      "source": [
        "# Part 3: Core Machine Learning Modeling"
      ]
    },
    {
      "cell_type": "markdown",
      "metadata": {
        "id": "jhy2mqoBFvdj"
      },
      "source": [
        "## Classification: Antivirus"
      ]
    },
    {
      "cell_type": "code",
      "metadata": {
        "id": "rocG_yPQzfty"
      },
      "source": [
        "# Imports\n",
        "import pandas\n",
        "import warnings\n",
        "import seaborn as sns\n",
        "import matplotlib.pyplot as plt\n",
        "warnings.filterwarnings('ignore')"
      ],
      "execution_count": null,
      "outputs": []
    },
    {
      "cell_type": "code",
      "metadata": {
        "id": "_l3GimgTzjsP"
      },
      "source": [
        "# Data loading\n",
        "dataset = pandas.read_csv(\"https://raw.githubusercontent.com/elyesmanai/Datasets-for-ML-trainings/main/dataset_malwares.csv\")"
      ],
      "execution_count": null,
      "outputs": []
    },
    {
      "cell_type": "code",
      "metadata": {
        "colab": {
          "base_uri": "https://localhost:8080/"
        },
        "id": "MqIF7BU7zncO",
        "outputId": "a090c08a-cc09-49b7-9054-4310e94c3b81"
      },
      "source": [
        "# Data Exploration (EDA) & Preprocessing\n",
        "dataset.shape"
      ],
      "execution_count": null,
      "outputs": [
        {
          "output_type": "execute_result",
          "data": {
            "text/plain": [
              "(19611, 79)"
            ]
          },
          "metadata": {
            "tags": []
          },
          "execution_count": 3
        }
      ]
    },
    {
      "cell_type": "code",
      "metadata": {
        "id": "kRmk-g2n0cQR"
      },
      "source": [
        "dataset.head(3)\n",
        "dataset.tail(3)\n",
        "# 1: il se peut que les virus lkol ismhom virus share\n",
        "# enajem tout simplement na3mel fonction tthabet ken ism il fichier fih virus_share\n",
        "# waleken, il nhar eli yachl9ou il hackers anou 3malna haka, ibadlou esemihom\n",
        "\n",
        "# 2: fama fil names des valeurs fehom extension w fama lé \n",
        "# -> najem na3mel feature engineering: nasna3 colonne jdida ismha extension\n",
        "\n",
        "# Awil haja bch na3mel, ndroppi il colonne name khater n7ibch il modele yit3alem bil esemi\n",
        "# fama chkoun i9olik khali il extension --> premature optimization is the root of all evil\n",
        "dataset.drop('Name', axis=1, inplace=True)"
      ],
      "execution_count": null,
      "outputs": []
    },
    {
      "cell_type": "code",
      "metadata": {
        "id": "cZUZ-Bxh2f7w"
      },
      "source": [
        "# toutes les colonnes int ou float, ma3netha pas de strings, pas besoin de faire pre-processing\n",
        "dataset.info()"
      ],
      "execution_count": null,
      "outputs": []
    },
    {
      "cell_type": "code",
      "metadata": {
        "id": "HwaMZ3IL3OK9"
      },
      "source": [
        "# ma3ana 7ata valeure manquante\n",
        "dataset.isna().sum().sum()"
      ],
      "execution_count": null,
      "outputs": []
    },
    {
      "cell_type": "code",
      "metadata": {
        "colab": {
          "base_uri": "https://localhost:8080/",
          "height": 319
        },
        "id": "dVvmfRqo31zN",
        "outputId": "5ff2ba45-e04b-4724-98fc-dcff52b5334e"
      },
      "source": [
        "# fama des colonnes eli mayitbadlouch jimla du coup mayzidounech ma3louma tosla7\n",
        "# najmou nfaskhohom\n",
        "dataset.describe()"
      ],
      "execution_count": null,
      "outputs": [
        {
          "output_type": "execute_result",
          "data": {
            "text/html": [
              "<div>\n",
              "<style scoped>\n",
              "    .dataframe tbody tr th:only-of-type {\n",
              "        vertical-align: middle;\n",
              "    }\n",
              "\n",
              "    .dataframe tbody tr th {\n",
              "        vertical-align: top;\n",
              "    }\n",
              "\n",
              "    .dataframe thead th {\n",
              "        text-align: right;\n",
              "    }\n",
              "</style>\n",
              "<table border=\"1\" class=\"dataframe\">\n",
              "  <thead>\n",
              "    <tr style=\"text-align: right;\">\n",
              "      <th></th>\n",
              "      <th>e_cblp</th>\n",
              "      <th>e_cp</th>\n",
              "      <th>e_crlc</th>\n",
              "      <th>e_cparhdr</th>\n",
              "      <th>e_minalloc</th>\n",
              "      <th>e_maxalloc</th>\n",
              "      <th>e_ss</th>\n",
              "      <th>e_sp</th>\n",
              "      <th>e_csum</th>\n",
              "      <th>e_ip</th>\n",
              "      <th>e_cs</th>\n",
              "      <th>e_lfarlc</th>\n",
              "      <th>e_ovno</th>\n",
              "      <th>e_oemid</th>\n",
              "      <th>e_oeminfo</th>\n",
              "      <th>e_lfanew</th>\n",
              "      <th>Machine</th>\n",
              "      <th>NumberOfSections</th>\n",
              "      <th>TimeDateStamp</th>\n",
              "      <th>PointerToSymbolTable</th>\n",
              "      <th>NumberOfSymbols</th>\n",
              "      <th>SizeOfOptionalHeader</th>\n",
              "      <th>Characteristics</th>\n",
              "      <th>Magic</th>\n",
              "      <th>MajorLinkerVersion</th>\n",
              "      <th>MinorLinkerVersion</th>\n",
              "      <th>SizeOfCode</th>\n",
              "      <th>SizeOfInitializedData</th>\n",
              "      <th>SizeOfUninitializedData</th>\n",
              "      <th>AddressOfEntryPoint</th>\n",
              "      <th>BaseOfCode</th>\n",
              "      <th>ImageBase</th>\n",
              "      <th>SectionAlignment</th>\n",
              "      <th>FileAlignment</th>\n",
              "      <th>MajorOperatingSystemVersion</th>\n",
              "      <th>MinorOperatingSystemVersion</th>\n",
              "      <th>MajorImageVersion</th>\n",
              "      <th>MinorImageVersion</th>\n",
              "      <th>MajorSubsystemVersion</th>\n",
              "      <th>MinorSubsystemVersion</th>\n",
              "      <th>SizeOfHeaders</th>\n",
              "      <th>CheckSum</th>\n",
              "      <th>SizeOfImage</th>\n",
              "      <th>Subsystem</th>\n",
              "      <th>DllCharacteristics</th>\n",
              "      <th>SizeOfStackReserve</th>\n",
              "      <th>SizeOfStackCommit</th>\n",
              "      <th>SizeOfHeapReserve</th>\n",
              "      <th>SizeOfHeapCommit</th>\n",
              "      <th>LoaderFlags</th>\n",
              "      <th>NumberOfRvaAndSizes</th>\n",
              "      <th>Malware</th>\n",
              "      <th>SuspiciousImportFunctions</th>\n",
              "      <th>SuspiciousNameSection</th>\n",
              "      <th>SectionsLength</th>\n",
              "      <th>SectionMinEntropy</th>\n",
              "      <th>SectionMinRawsize</th>\n",
              "      <th>SectionMinVirtualsize</th>\n",
              "      <th>SectionMaxPhysical</th>\n",
              "      <th>SectionMaxVirtual</th>\n",
              "      <th>SectionMaxPointerData</th>\n",
              "      <th>SectionMaxChar</th>\n",
              "      <th>DirectoryEntryImport</th>\n",
              "      <th>DirectoryEntryImportSize</th>\n",
              "      <th>DirectoryEntryExport</th>\n",
              "      <th>ImageDirectoryEntryExport</th>\n",
              "      <th>ImageDirectoryEntryImport</th>\n",
              "      <th>ImageDirectoryEntryResource</th>\n",
              "      <th>ImageDirectoryEntryException</th>\n",
              "      <th>ImageDirectoryEntrySecurity</th>\n",
              "    </tr>\n",
              "  </thead>\n",
              "  <tbody>\n",
              "    <tr>\n",
              "      <th>count</th>\n",
              "      <td>19611.000000</td>\n",
              "      <td>19611.000000</td>\n",
              "      <td>19611.000000</td>\n",
              "      <td>19611.000000</td>\n",
              "      <td>19611.000000</td>\n",
              "      <td>19611.000000</td>\n",
              "      <td>19611.000000</td>\n",
              "      <td>19611.00000</td>\n",
              "      <td>19611.000000</td>\n",
              "      <td>19611.000000</td>\n",
              "      <td>19611.000000</td>\n",
              "      <td>19611.000000</td>\n",
              "      <td>19611.000000</td>\n",
              "      <td>19611.000000</td>\n",
              "      <td>19611.000000</td>\n",
              "      <td>19611.000000</td>\n",
              "      <td>19611.000000</td>\n",
              "      <td>19611.000000</td>\n",
              "      <td>1.961100e+04</td>\n",
              "      <td>1.961100e+04</td>\n",
              "      <td>1.961100e+04</td>\n",
              "      <td>19611.000000</td>\n",
              "      <td>19611.00000</td>\n",
              "      <td>19611.000000</td>\n",
              "      <td>19611.000000</td>\n",
              "      <td>19611.000000</td>\n",
              "      <td>1.961100e+04</td>\n",
              "      <td>1.961100e+04</td>\n",
              "      <td>1.961100e+04</td>\n",
              "      <td>1.961100e+04</td>\n",
              "      <td>1.961100e+04</td>\n",
              "      <td>1.961100e+04</td>\n",
              "      <td>19611.000000</td>\n",
              "      <td>19611.000000</td>\n",
              "      <td>19611.000000</td>\n",
              "      <td>19611.000000</td>\n",
              "      <td>19611.000000</td>\n",
              "      <td>19611.000000</td>\n",
              "      <td>19611.000000</td>\n",
              "      <td>19611.000000</td>\n",
              "      <td>1.961100e+04</td>\n",
              "      <td>1.961100e+04</td>\n",
              "      <td>1.961100e+04</td>\n",
              "      <td>19611.000000</td>\n",
              "      <td>19611.000000</td>\n",
              "      <td>1.961100e+04</td>\n",
              "      <td>1.961100e+04</td>\n",
              "      <td>1.961100e+04</td>\n",
              "      <td>1.961100e+04</td>\n",
              "      <td>1.961100e+04</td>\n",
              "      <td>1.961100e+04</td>\n",
              "      <td>19611.000000</td>\n",
              "      <td>19611.000000</td>\n",
              "      <td>19611.000000</td>\n",
              "      <td>19611.000000</td>\n",
              "      <td>19611.000000</td>\n",
              "      <td>1.961100e+04</td>\n",
              "      <td>1.961100e+04</td>\n",
              "      <td>1.961100e+04</td>\n",
              "      <td>1.961100e+04</td>\n",
              "      <td>1.961100e+04</td>\n",
              "      <td>1.961100e+04</td>\n",
              "      <td>19611.000000</td>\n",
              "      <td>19611.000000</td>\n",
              "      <td>19611.000000</td>\n",
              "      <td>1.961100e+04</td>\n",
              "      <td>1.961100e+04</td>\n",
              "      <td>1.961100e+04</td>\n",
              "      <td>1.961100e+04</td>\n",
              "      <td>1.961100e+04</td>\n",
              "    </tr>\n",
              "    <tr>\n",
              "      <th>mean</th>\n",
              "      <td>178.615726</td>\n",
              "      <td>71.660752</td>\n",
              "      <td>49.146958</td>\n",
              "      <td>37.370710</td>\n",
              "      <td>37.032635</td>\n",
              "      <td>64178.739687</td>\n",
              "      <td>10.418490</td>\n",
              "      <td>226.46530</td>\n",
              "      <td>29.689103</td>\n",
              "      <td>107.662434</td>\n",
              "      <td>63.839937</td>\n",
              "      <td>155.523839</td>\n",
              "      <td>92.185610</td>\n",
              "      <td>354.104992</td>\n",
              "      <td>363.403957</td>\n",
              "      <td>220.336750</td>\n",
              "      <td>4852.718678</td>\n",
              "      <td>5.030544</td>\n",
              "      <td>1.283909e+09</td>\n",
              "      <td>6.873241e+06</td>\n",
              "      <td>7.111700e+06</td>\n",
              "      <td>226.173066</td>\n",
              "      <td>5551.12595</td>\n",
              "      <td>300.966243</td>\n",
              "      <td>8.762582</td>\n",
              "      <td>5.119423</td>\n",
              "      <td>1.523875e+06</td>\n",
              "      <td>1.898218e+06</td>\n",
              "      <td>2.687883e+05</td>\n",
              "      <td>8.037910e+06</td>\n",
              "      <td>9.708936e+05</td>\n",
              "      <td>3.106922e+10</td>\n",
              "      <td>4346.067819</td>\n",
              "      <td>874.013972</td>\n",
              "      <td>23.485085</td>\n",
              "      <td>18.022283</td>\n",
              "      <td>52.873744</td>\n",
              "      <td>44.736831</td>\n",
              "      <td>4.769925</td>\n",
              "      <td>14.103921</td>\n",
              "      <td>1.699066e+03</td>\n",
              "      <td>1.154911e+08</td>\n",
              "      <td>1.615545e+06</td>\n",
              "      <td>2.172097</td>\n",
              "      <td>18160.210647</td>\n",
              "      <td>1.074053e+06</td>\n",
              "      <td>7.590221e+03</td>\n",
              "      <td>1.057768e+06</td>\n",
              "      <td>2.376824e+04</td>\n",
              "      <td>1.489712e+06</td>\n",
              "      <td>1.553571e+05</td>\n",
              "      <td>0.744429</td>\n",
              "      <td>5.142675</td>\n",
              "      <td>0.018153</td>\n",
              "      <td>5.030340</td>\n",
              "      <td>1.547795</td>\n",
              "      <td>2.459628e+04</td>\n",
              "      <td>2.748368e+04</td>\n",
              "      <td>7.641715e+05</td>\n",
              "      <td>9.101676e+05</td>\n",
              "      <td>2.327726e+07</td>\n",
              "      <td>3.163632e+09</td>\n",
              "      <td>6.112437</td>\n",
              "      <td>101.912804</td>\n",
              "      <td>14.131865</td>\n",
              "      <td>3.368566e+05</td>\n",
              "      <td>4.047213e+05</td>\n",
              "      <td>5.555810e+05</td>\n",
              "      <td>1.238834e+06</td>\n",
              "      <td>8.814868e+05</td>\n",
              "    </tr>\n",
              "    <tr>\n",
              "      <th>std</th>\n",
              "      <td>987.200729</td>\n",
              "      <td>1445.192977</td>\n",
              "      <td>1212.201919</td>\n",
              "      <td>864.515405</td>\n",
              "      <td>915.833139</td>\n",
              "      <td>9110.755873</td>\n",
              "      <td>637.116265</td>\n",
              "      <td>1249.68033</td>\n",
              "      <td>1015.303419</td>\n",
              "      <td>1826.995907</td>\n",
              "      <td>1142.682852</td>\n",
              "      <td>1717.331368</td>\n",
              "      <td>1644.797529</td>\n",
              "      <td>3819.329588</td>\n",
              "      <td>4069.272854</td>\n",
              "      <td>70.195798</td>\n",
              "      <td>11558.504580</td>\n",
              "      <td>2.084433</td>\n",
              "      <td>2.945803e+08</td>\n",
              "      <td>1.344465e+08</td>\n",
              "      <td>1.208990e+08</td>\n",
              "      <td>5.986218</td>\n",
              "      <td>9502.47239</td>\n",
              "      <td>86.844903</td>\n",
              "      <td>9.701518</td>\n",
              "      <td>17.762468</td>\n",
              "      <td>5.162412e+07</td>\n",
              "      <td>6.055686e+07</td>\n",
              "      <td>3.068554e+07</td>\n",
              "      <td>1.085113e+08</td>\n",
              "      <td>5.250490e+07</td>\n",
              "      <td>4.602648e+11</td>\n",
              "      <td>1103.142554</td>\n",
              "      <td>1081.272068</td>\n",
              "      <td>925.940606</td>\n",
              "      <td>812.631879</td>\n",
              "      <td>1259.221050</td>\n",
              "      <td>1063.217530</td>\n",
              "      <td>0.811817</td>\n",
              "      <td>932.235146</td>\n",
              "      <td>1.397772e+04</td>\n",
              "      <td>4.943297e+08</td>\n",
              "      <td>3.400173e+07</td>\n",
              "      <td>0.484759</td>\n",
              "      <td>16397.914722</td>\n",
              "      <td>1.377536e+06</td>\n",
              "      <td>7.600085e+04</td>\n",
              "      <td>5.931658e+05</td>\n",
              "      <td>5.731730e+05</td>\n",
              "      <td>6.259495e+07</td>\n",
              "      <td>1.471899e+07</td>\n",
              "      <td>0.436193</td>\n",
              "      <td>6.865930</td>\n",
              "      <td>0.183114</td>\n",
              "      <td>2.084558</td>\n",
              "      <td>1.810216</td>\n",
              "      <td>5.055981e+05</td>\n",
              "      <td>5.057358e+05</td>\n",
              "      <td>9.044052e+06</td>\n",
              "      <td>2.095545e+07</td>\n",
              "      <td>2.918776e+08</td>\n",
              "      <td>5.860332e+08</td>\n",
              "      <td>7.525158</td>\n",
              "      <td>127.076767</td>\n",
              "      <td>154.958102</td>\n",
              "      <td>2.181191e+07</td>\n",
              "      <td>4.704601e+06</td>\n",
              "      <td>6.772167e+06</td>\n",
              "      <td>5.868961e+07</td>\n",
              "      <td>2.167579e+07</td>\n",
              "    </tr>\n",
              "    <tr>\n",
              "      <th>min</th>\n",
              "      <td>0.000000</td>\n",
              "      <td>0.000000</td>\n",
              "      <td>0.000000</td>\n",
              "      <td>0.000000</td>\n",
              "      <td>0.000000</td>\n",
              "      <td>0.000000</td>\n",
              "      <td>0.000000</td>\n",
              "      <td>0.00000</td>\n",
              "      <td>0.000000</td>\n",
              "      <td>0.000000</td>\n",
              "      <td>0.000000</td>\n",
              "      <td>0.000000</td>\n",
              "      <td>0.000000</td>\n",
              "      <td>0.000000</td>\n",
              "      <td>0.000000</td>\n",
              "      <td>12.000000</td>\n",
              "      <td>332.000000</td>\n",
              "      <td>1.000000</td>\n",
              "      <td>0.000000e+00</td>\n",
              "      <td>0.000000e+00</td>\n",
              "      <td>0.000000e+00</td>\n",
              "      <td>144.000000</td>\n",
              "      <td>2.00000</td>\n",
              "      <td>267.000000</td>\n",
              "      <td>0.000000</td>\n",
              "      <td>0.000000</td>\n",
              "      <td>0.000000e+00</td>\n",
              "      <td>0.000000e+00</td>\n",
              "      <td>0.000000e+00</td>\n",
              "      <td>0.000000e+00</td>\n",
              "      <td>0.000000e+00</td>\n",
              "      <td>0.000000e+00</td>\n",
              "      <td>16.000000</td>\n",
              "      <td>16.000000</td>\n",
              "      <td>0.000000</td>\n",
              "      <td>0.000000</td>\n",
              "      <td>0.000000</td>\n",
              "      <td>0.000000</td>\n",
              "      <td>0.000000</td>\n",
              "      <td>0.000000</td>\n",
              "      <td>5.040000e+02</td>\n",
              "      <td>0.000000e+00</td>\n",
              "      <td>0.000000e+00</td>\n",
              "      <td>1.000000</td>\n",
              "      <td>0.000000</td>\n",
              "      <td>0.000000e+00</td>\n",
              "      <td>0.000000e+00</td>\n",
              "      <td>0.000000e+00</td>\n",
              "      <td>0.000000e+00</td>\n",
              "      <td>0.000000e+00</td>\n",
              "      <td>6.000000e+00</td>\n",
              "      <td>0.000000</td>\n",
              "      <td>0.000000</td>\n",
              "      <td>0.000000</td>\n",
              "      <td>1.000000</td>\n",
              "      <td>0.000000</td>\n",
              "      <td>0.000000e+00</td>\n",
              "      <td>0.000000e+00</td>\n",
              "      <td>0.000000e+00</td>\n",
              "      <td>4.000000e+03</td>\n",
              "      <td>5.120000e+02</td>\n",
              "      <td>1.073742e+09</td>\n",
              "      <td>0.000000</td>\n",
              "      <td>0.000000</td>\n",
              "      <td>0.000000</td>\n",
              "      <td>0.000000e+00</td>\n",
              "      <td>0.000000e+00</td>\n",
              "      <td>0.000000e+00</td>\n",
              "      <td>0.000000e+00</td>\n",
              "      <td>0.000000e+00</td>\n",
              "    </tr>\n",
              "    <tr>\n",
              "      <th>25%</th>\n",
              "      <td>144.000000</td>\n",
              "      <td>3.000000</td>\n",
              "      <td>0.000000</td>\n",
              "      <td>4.000000</td>\n",
              "      <td>0.000000</td>\n",
              "      <td>65535.000000</td>\n",
              "      <td>0.000000</td>\n",
              "      <td>184.00000</td>\n",
              "      <td>0.000000</td>\n",
              "      <td>0.000000</td>\n",
              "      <td>0.000000</td>\n",
              "      <td>64.000000</td>\n",
              "      <td>0.000000</td>\n",
              "      <td>0.000000</td>\n",
              "      <td>0.000000</td>\n",
              "      <td>208.000000</td>\n",
              "      <td>332.000000</td>\n",
              "      <td>4.000000</td>\n",
              "      <td>1.271377e+09</td>\n",
              "      <td>0.000000e+00</td>\n",
              "      <td>0.000000e+00</td>\n",
              "      <td>224.000000</td>\n",
              "      <td>258.00000</td>\n",
              "      <td>267.000000</td>\n",
              "      <td>6.000000</td>\n",
              "      <td>0.000000</td>\n",
              "      <td>2.099200e+04</td>\n",
              "      <td>1.484800e+04</td>\n",
              "      <td>0.000000e+00</td>\n",
              "      <td>7.784000e+03</td>\n",
              "      <td>4.096000e+03</td>\n",
              "      <td>4.194304e+06</td>\n",
              "      <td>4096.000000</td>\n",
              "      <td>512.000000</td>\n",
              "      <td>4.000000</td>\n",
              "      <td>0.000000</td>\n",
              "      <td>0.000000</td>\n",
              "      <td>0.000000</td>\n",
              "      <td>4.000000</td>\n",
              "      <td>0.000000</td>\n",
              "      <td>1.024000e+03</td>\n",
              "      <td>4.476000e+03</td>\n",
              "      <td>9.830400e+04</td>\n",
              "      <td>2.000000</td>\n",
              "      <td>0.000000</td>\n",
              "      <td>1.048576e+06</td>\n",
              "      <td>4.096000e+03</td>\n",
              "      <td>1.048576e+06</td>\n",
              "      <td>4.096000e+03</td>\n",
              "      <td>0.000000e+00</td>\n",
              "      <td>1.600000e+01</td>\n",
              "      <td>0.000000</td>\n",
              "      <td>0.000000</td>\n",
              "      <td>0.000000</td>\n",
              "      <td>4.000000</td>\n",
              "      <td>0.000000</td>\n",
              "      <td>0.000000e+00</td>\n",
              "      <td>3.240000e+02</td>\n",
              "      <td>5.342950e+04</td>\n",
              "      <td>7.782400e+04</td>\n",
              "      <td>4.556800e+04</td>\n",
              "      <td>3.221226e+09</td>\n",
              "      <td>2.000000</td>\n",
              "      <td>17.000000</td>\n",
              "      <td>0.000000</td>\n",
              "      <td>0.000000e+00</td>\n",
              "      <td>2.960400e+04</td>\n",
              "      <td>4.096000e+04</td>\n",
              "      <td>0.000000e+00</td>\n",
              "      <td>0.000000e+00</td>\n",
              "    </tr>\n",
              "    <tr>\n",
              "      <th>50%</th>\n",
              "      <td>144.000000</td>\n",
              "      <td>3.000000</td>\n",
              "      <td>0.000000</td>\n",
              "      <td>4.000000</td>\n",
              "      <td>0.000000</td>\n",
              "      <td>65535.000000</td>\n",
              "      <td>0.000000</td>\n",
              "      <td>184.00000</td>\n",
              "      <td>0.000000</td>\n",
              "      <td>0.000000</td>\n",
              "      <td>0.000000</td>\n",
              "      <td>64.000000</td>\n",
              "      <td>0.000000</td>\n",
              "      <td>0.000000</td>\n",
              "      <td>0.000000</td>\n",
              "      <td>232.000000</td>\n",
              "      <td>332.000000</td>\n",
              "      <td>5.000000</td>\n",
              "      <td>1.366649e+09</td>\n",
              "      <td>0.000000e+00</td>\n",
              "      <td>0.000000e+00</td>\n",
              "      <td>224.000000</td>\n",
              "      <td>271.00000</td>\n",
              "      <td>267.000000</td>\n",
              "      <td>9.000000</td>\n",
              "      <td>0.000000</td>\n",
              "      <td>5.683200e+04</td>\n",
              "      <td>5.785600e+04</td>\n",
              "      <td>0.000000e+00</td>\n",
              "      <td>3.135100e+04</td>\n",
              "      <td>4.096000e+03</td>\n",
              "      <td>4.194304e+06</td>\n",
              "      <td>4096.000000</td>\n",
              "      <td>512.000000</td>\n",
              "      <td>5.000000</td>\n",
              "      <td>0.000000</td>\n",
              "      <td>1.000000</td>\n",
              "      <td>0.000000</td>\n",
              "      <td>5.000000</td>\n",
              "      <td>0.000000</td>\n",
              "      <td>1.024000e+03</td>\n",
              "      <td>2.055330e+05</td>\n",
              "      <td>2.785280e+05</td>\n",
              "      <td>2.000000</td>\n",
              "      <td>32768.000000</td>\n",
              "      <td>1.048576e+06</td>\n",
              "      <td>4.096000e+03</td>\n",
              "      <td>1.048576e+06</td>\n",
              "      <td>4.096000e+03</td>\n",
              "      <td>0.000000e+00</td>\n",
              "      <td>1.600000e+01</td>\n",
              "      <td>1.000000</td>\n",
              "      <td>2.000000</td>\n",
              "      <td>0.000000</td>\n",
              "      <td>5.000000</td>\n",
              "      <td>0.402634</td>\n",
              "      <td>5.120000e+02</td>\n",
              "      <td>1.736000e+03</td>\n",
              "      <td>1.594600e+05</td>\n",
              "      <td>1.884160e+05</td>\n",
              "      <td>1.413120e+05</td>\n",
              "      <td>3.221226e+09</td>\n",
              "      <td>4.000000</td>\n",
              "      <td>80.000000</td>\n",
              "      <td>0.000000</td>\n",
              "      <td>0.000000e+00</td>\n",
              "      <td>8.222400e+04</td>\n",
              "      <td>1.310720e+05</td>\n",
              "      <td>0.000000e+00</td>\n",
              "      <td>0.000000e+00</td>\n",
              "    </tr>\n",
              "    <tr>\n",
              "      <th>75%</th>\n",
              "      <td>144.000000</td>\n",
              "      <td>3.000000</td>\n",
              "      <td>0.000000</td>\n",
              "      <td>4.000000</td>\n",
              "      <td>0.000000</td>\n",
              "      <td>65535.000000</td>\n",
              "      <td>0.000000</td>\n",
              "      <td>184.00000</td>\n",
              "      <td>0.000000</td>\n",
              "      <td>0.000000</td>\n",
              "      <td>0.000000</td>\n",
              "      <td>64.000000</td>\n",
              "      <td>0.000000</td>\n",
              "      <td>0.000000</td>\n",
              "      <td>0.000000</td>\n",
              "      <td>248.000000</td>\n",
              "      <td>332.000000</td>\n",
              "      <td>6.000000</td>\n",
              "      <td>1.380437e+09</td>\n",
              "      <td>0.000000e+00</td>\n",
              "      <td>0.000000e+00</td>\n",
              "      <td>224.000000</td>\n",
              "      <td>8450.00000</td>\n",
              "      <td>267.000000</td>\n",
              "      <td>11.000000</td>\n",
              "      <td>0.000000</td>\n",
              "      <td>1.551360e+05</td>\n",
              "      <td>3.082240e+05</td>\n",
              "      <td>0.000000e+00</td>\n",
              "      <td>9.892100e+04</td>\n",
              "      <td>4.096000e+03</td>\n",
              "      <td>2.684355e+08</td>\n",
              "      <td>4096.000000</td>\n",
              "      <td>512.000000</td>\n",
              "      <td>5.000000</td>\n",
              "      <td>1.000000</td>\n",
              "      <td>6.000000</td>\n",
              "      <td>1.000000</td>\n",
              "      <td>5.000000</td>\n",
              "      <td>1.000000</td>\n",
              "      <td>1.024000e+03</td>\n",
              "      <td>7.015125e+05</td>\n",
              "      <td>6.225920e+05</td>\n",
              "      <td>2.000000</td>\n",
              "      <td>33088.000000</td>\n",
              "      <td>1.048576e+06</td>\n",
              "      <td>4.096000e+03</td>\n",
              "      <td>1.048576e+06</td>\n",
              "      <td>4.096000e+03</td>\n",
              "      <td>0.000000e+00</td>\n",
              "      <td>1.600000e+01</td>\n",
              "      <td>1.000000</td>\n",
              "      <td>8.000000</td>\n",
              "      <td>0.000000</td>\n",
              "      <td>6.000000</td>\n",
              "      <td>2.972017</td>\n",
              "      <td>4.096000e+03</td>\n",
              "      <td>6.578000e+03</td>\n",
              "      <td>3.901155e+05</td>\n",
              "      <td>5.406720e+05</td>\n",
              "      <td>4.057600e+05</td>\n",
              "      <td>3.221226e+09</td>\n",
              "      <td>8.000000</td>\n",
              "      <td>135.000000</td>\n",
              "      <td>0.000000</td>\n",
              "      <td>0.000000e+00</td>\n",
              "      <td>2.477080e+05</td>\n",
              "      <td>3.870720e+05</td>\n",
              "      <td>0.000000e+00</td>\n",
              "      <td>3.184640e+05</td>\n",
              "    </tr>\n",
              "    <tr>\n",
              "      <th>max</th>\n",
              "      <td>59448.000000</td>\n",
              "      <td>63200.000000</td>\n",
              "      <td>64613.000000</td>\n",
              "      <td>43690.000000</td>\n",
              "      <td>43690.000000</td>\n",
              "      <td>65535.000000</td>\n",
              "      <td>61436.000000</td>\n",
              "      <td>65464.00000</td>\n",
              "      <td>63262.000000</td>\n",
              "      <td>60447.000000</td>\n",
              "      <td>43690.000000</td>\n",
              "      <td>57534.000000</td>\n",
              "      <td>59648.000000</td>\n",
              "      <td>63488.000000</td>\n",
              "      <td>64484.000000</td>\n",
              "      <td>3488.000000</td>\n",
              "      <td>34404.000000</td>\n",
              "      <td>79.000000</td>\n",
              "      <td>4.291612e+09</td>\n",
              "      <td>4.283477e+09</td>\n",
              "      <td>4.194304e+09</td>\n",
              "      <td>328.000000</td>\n",
              "      <td>41359.00000</td>\n",
              "      <td>523.000000</td>\n",
              "      <td>255.000000</td>\n",
              "      <td>255.000000</td>\n",
              "      <td>3.338989e+09</td>\n",
              "      <td>4.294961e+09</td>\n",
              "      <td>4.294919e+09</td>\n",
              "      <td>3.490505e+09</td>\n",
              "      <td>3.502221e+09</td>\n",
              "      <td>8.793756e+12</td>\n",
              "      <td>65536.000000</td>\n",
              "      <td>4096.000000</td>\n",
              "      <td>57972.000000</td>\n",
              "      <td>59090.000000</td>\n",
              "      <td>64416.000000</td>\n",
              "      <td>54891.000000</td>\n",
              "      <td>10.000000</td>\n",
              "      <td>65282.000000</td>\n",
              "      <td>1.093632e+06</td>\n",
              "      <td>4.294967e+09</td>\n",
              "      <td>3.221332e+09</td>\n",
              "      <td>16.000000</td>\n",
              "      <td>57379.000000</td>\n",
              "      <td>3.355443e+07</td>\n",
              "      <td>8.192000e+06</td>\n",
              "      <td>6.291456e+07</td>\n",
              "      <td>1.684685e+07</td>\n",
              "      <td>4.294954e+09</td>\n",
              "      <td>1.479394e+09</td>\n",
              "      <td>1.000000</td>\n",
              "      <td>45.000000</td>\n",
              "      <td>4.000000</td>\n",
              "      <td>79.000000</td>\n",
              "      <td>7.989859</td>\n",
              "      <td>4.884736e+07</td>\n",
              "      <td>4.884710e+07</td>\n",
              "      <td>8.302964e+08</td>\n",
              "      <td>2.684355e+09</td>\n",
              "      <td>3.763037e+09</td>\n",
              "      <td>4.294967e+09</td>\n",
              "      <td>588.000000</td>\n",
              "      <td>4016.000000</td>\n",
              "      <td>7319.000000</td>\n",
              "      <td>2.147484e+09</td>\n",
              "      <td>5.368914e+08</td>\n",
              "      <td>8.304108e+08</td>\n",
              "      <td>2.906159e+09</td>\n",
              "      <td>2.415919e+09</td>\n",
              "    </tr>\n",
              "  </tbody>\n",
              "</table>\n",
              "</div>"
            ],
            "text/plain": [
              "             e_cblp  ...  ImageDirectoryEntrySecurity\n",
              "count  19611.000000  ...                 1.961100e+04\n",
              "mean     178.615726  ...                 8.814868e+05\n",
              "std      987.200729  ...                 2.167579e+07\n",
              "min        0.000000  ...                 0.000000e+00\n",
              "25%      144.000000  ...                 0.000000e+00\n",
              "50%      144.000000  ...                 0.000000e+00\n",
              "75%      144.000000  ...                 3.184640e+05\n",
              "max    59448.000000  ...                 2.415919e+09\n",
              "\n",
              "[8 rows x 70 columns]"
            ]
          },
          "metadata": {
            "tags": []
          },
          "execution_count": 30
        }
      ]
    },
    {
      "cell_type": "code",
      "metadata": {
        "id": "G17wAZLm6Who"
      },
      "source": [
        "dataset['e_cblp'].min() # ta3tini asgher valeure fil colonne\n",
        "dataset['e_cblp'].max() # ta3tini akber valeure fil colonne\n",
        "dataset['e_cblp'].std() # ta3tini déviation standard / 9adeh fama changement fils valeurs"
      ],
      "execution_count": null,
      "outputs": []
    },
    {
      "cell_type": "code",
      "metadata": {
        "id": "jwBa1_Qa6EsM"
      },
      "source": [
        "# METHOD 1: MANUELLE\n",
        "# hedhom lkol des colonnes najemou nistaghnew 3anhom khater yitbadlouch leurs valeurs\n",
        "dataset.drop(['SectionMaxEntropy', 'SectionMaxRawsize', 'e_magic',\n",
        "              'SectionMaxVirtualsize', 'SectionMinPhysical', 'SectionMinVirtual',\n",
        "              'SectionMinPointerData', 'SectionMainChar'], axis=1, inplace=True)\n",
        "\n",
        "# METHOD 2: AUTOMATIC\n",
        "# Il faza hedhi tkhalina nfaskhou toutes les colonnes li fehom une seule valeur\n",
        "for column in dataset.columns:\n",
        "  if dataset[column].nunique() == 1: # or dataset.column.std() == 0.0\n",
        "    dataset.drop(column, axis=1, inplace=True)"
      ],
      "execution_count": null,
      "outputs": []
    },
    {
      "cell_type": "code",
      "metadata": {
        "colab": {
          "base_uri": "https://localhost:8080/",
          "height": 282
        },
        "id": "yur2yJZA7aYw",
        "outputId": "7981434d-0a1b-4cb9-839e-a46bf1fd648d"
      },
      "source": [
        "# distribution des classes imbalanced, 3andi akther malwares (1) que mouch malware (0)\n",
        "# possiblement yatla3 il modele biased lil 1 ma3netha yistenis akther i9oul 1 que 0.\n",
        "# train test split lezim nrod beli khater inajem ijini ta9sim khayeb (baaaarcha 1 w chwaya 0)\n",
        "dataset.Malware.hist()"
      ],
      "execution_count": null,
      "outputs": [
        {
          "output_type": "execute_result",
          "data": {
            "text/plain": [
              "<matplotlib.axes._subplots.AxesSubplot at 0x7f3033f4d0d0>"
            ]
          },
          "metadata": {
            "tags": []
          },
          "execution_count": 50
        },
        {
          "output_type": "display_data",
          "data": {
            "image/png": "[encoded data removed]",
            "text/plain": [
              "<Figure size 432x288 with 1 Axes>"
            ]
          },
          "metadata": {
            "tags": [],
            "needs_background": "light"
          }
        }
      ]
    },
    {
      "cell_type": "code",
      "metadata": {
        "id": "VyyrG-9a-bB2"
      },
      "source": [
        "plt.figure( figsize = (16,16))\n",
        "sns.heatmap(dataset.corr()) #correlation, ya3ni tihsib 9adeh kol variable elle est corrélé (titmecha) m3a les autres variables\n",
        "# seaborn w matplotlib zidnehom khater houma des librairies ta3 tazyin w plots khalewna na3mlou il taswira il ma7leha"
      ],
      "execution_count": null,
      "outputs": []
    },
    {
      "cell_type": "code",
      "metadata": {
        "id": "UiTl1ZYbAevN"
      },
      "source": [
        "sorted(list(zip(dataset.corr()['Malware'].values, dataset.columns)), reverse=True)\n",
        "# najemou automatiquement nkharjou a9wa les correlations m3a malware wa laken mouch dima précis, inajem ikoun un cas bizhar\n",
        "# les valeures correlent et inajem ikoun co-corellation m3a variables okhrin"
      ],
      "execution_count": null,
      "outputs": []
    },
    {
      "cell_type": "code",
      "metadata": {
        "id": "lnRjXPxaz1c5"
      },
      "source": [
        "# Data Preparation\n",
        "features = dataset[['MajorSubsystemVersion','Subsystem','MajorLinkerVersion','TimeDateStamp','CheckSum']]\n",
        "labels = dataset.Malware"
      ],
      "execution_count": null,
      "outputs": []
    },
    {
      "cell_type": "code",
      "metadata": {
        "id": "hieok4Ek8vWN"
      },
      "source": [
        "# najmou n9asmou données te3na bil tari9a hedhi\n",
        "# Laken DON'T DO THIS khater ken les classes mnadhmin tal9a train kolha 1 par exemple\n",
        "# w test kolha 0, du coup model bch ya3ti résultat khayeb barcha\n",
        "features_train = features[:15688]\n",
        "labels_train = labels[:15688]\n",
        "\n",
        "features_test = features[15689:]\n",
        "labels_test = labels[15689:]\n",
        "\n",
        "labels_test.hist()\n",
        "# puisque la data mnadhma tal3et fi les classes, lezimna na3mlou shuffling bi ma3na nkhaltoha\n",
        "# hedha c'est un exemple mais y'a d'autres w ahsen haja ili fil celule li ba3d\n",
        "features.sample(frac=1)"
      ],
      "execution_count": null,
      "outputs": []
    },
    {
      "cell_type": "code",
      "metadata": {
        "id": "I3uM49JO9gD_"
      },
      "source": [
        "# sklearn feha hal fonction louta li ta3mlelna ta9sim il data b tari9a mnadhma, sehla w efficace\n",
        "# random_state ki t7otha (par défaut None) tkhalik dima tjik nafs il ta9sima ta3 il data\n",
        "# X majuscule w y miniscule, famech 3lech, juste stensou keka w bch tal9aw mo3dham les codes haka\n",
        "from sklearn.model_selection import train_test_split\n",
        "X_train, X_test, y_train, y_test = train_test_split(features, labels, test_size=0.2, random_state=42)"
      ],
      "execution_count": null,
      "outputs": []
    },
    {
      "cell_type": "markdown",
      "metadata": {
        "id": "V6c2izP_DVv8"
      },
      "source": [
        "**Exercice 2:** Reprendre le travail wa7adkom + changer quelques variables 3ajaw"
      ]
    },
    {
      "cell_type": "code",
      "metadata": {
        "id": "cHG0XlZSz47J"
      },
      "source": [
        "# Modeling / Training\n",
        "# lezimni se3a n'importi les models\n",
        "from sklearn.linear_model import LogisticRegression\n",
        "from sklearn.neighbors import KNeighborsClassifier\n",
        "from sklearn.svm import SVC\n",
        "from sklearn.tree import DecisionTreeClassifier\n",
        "\n",
        "# lezimni na3mel instance likol model\n",
        "log = LogisticRegression()\n",
        "knn = KNeighborsClassifier()\n",
        "svm = SVC()\n",
        "tree = DecisionTreeClassifier()"
      ],
      "execution_count": null,
      "outputs": []
    },
    {
      "cell_type": "code",
      "metadata": {
        "colab": {
          "base_uri": "https://localhost:8080/"
        },
        "id": "1KWAP5UUgYa5",
        "outputId": "e957ca7d-0712-4689-df28-7b5927f2593f"
      },
      "source": [
        "# hedha ya3mel training\n",
        "for model in [log, svm, knn, tree]:\n",
        "  model.fit(X_train, y_train)\n",
        "  train_acc = model.score(X_train, y_train)\n",
        "  test_acc = model.score(X_test, y_test)\n",
        "  print(round(train_acc,3), round(test_acc,3))\n",
        "\n",
        "# Log : 0.256 0.253 \n",
        "# le fait anou train w test accuracies il zouz khaybin ya3ni data compliquée 3al regression logistique\n",
        "# SVM:  0.748 0.75\n",
        "# knn:  0.988 0.983\n",
        "# tree: 0.999 0.986 # inajem ikoun fama overfitting khater train w test relativement b3ad chwaya"
      ],
      "execution_count": null,
      "outputs": [
        {
          "output_type": "stream",
          "text": [
            "0.741 0.742\n",
            "0.745 0.748\n",
            "0.983 0.983\n",
            "0.999 0.986\n"
          ],
          "name": "stdout"
        }
      ]
    },
    {
      "cell_type": "code",
      "metadata": {
        "colab": {
          "base_uri": "https://localhost:8080/"
        },
        "id": "1Mws8h5TmC0B",
        "outputId": "3a2c04db-c5b3-4b4e-e13b-978dfeb558cc"
      },
      "source": [
        "from sklearn.metrics import accuracy_score, precision_score, recall_score, f1_score\n",
        "\n",
        "predictions = tree.predict(X_test)\n",
        "\n",
        "acc = accuracy_score(predictions, y_test)\n",
        "prec = precision_score(predictions, y_test)\n",
        "rec = recall_score(predictions, y_test)\n",
        "f1 = f1_score(predictions, y_test)\n",
        "\n",
        "metrics = [round(x,4) for x in [acc, prec, rec, f1]]\n",
        "\n",
        "print('tree: ',metrics)\n",
        "#knn:  [0.9834, 0.9908, 0.9871, 0.9889]\n",
        "#tree:  [0.9865, 0.9887, 0.9931, 0.9909]\n",
        "# puisque les metrics m3a b3athna w SURTOUT F1 (AHAM WEHID) a3la for tree, tree khir."
      ],
      "execution_count": null,
      "outputs": [
        {
          "output_type": "stream",
          "text": [
            "tree:  [0.986, 0.9904, 0.9908, 0.9906]\n"
          ],
          "name": "stdout"
        }
      ]
    },
    {
      "cell_type": "code",
      "metadata": {
        "colab": {
          "base_uri": "https://localhost:8080/"
        },
        "id": "A5qU2QPon2Z8",
        "outputId": "14550667-6602-4f9c-a8ee-6672f7efac97"
      },
      "source": [
        "from sklearn.metrics import classification_report\n",
        "\n",
        "predictions = knn.predict(X_test)\n",
        "print(classification_report(predictions, y_test))"
      ],
      "execution_count": null,
      "outputs": [
        {
          "output_type": "stream",
          "text": [
            "              precision    recall  f1-score   support\n",
            "\n",
            "           0       0.95      0.98      0.97       969\n",
            "           1       0.99      0.98      0.99      2954\n",
            "\n",
            "    accuracy                           0.98      3923\n",
            "   macro avg       0.97      0.98      0.98      3923\n",
            "weighted avg       0.98      0.98      0.98      3923\n",
            "\n"
          ],
          "name": "stdout"
        }
      ]
    },
    {
      "cell_type": "code",
      "metadata": {
        "colab": {
          "base_uri": "https://localhost:8080/"
        },
        "id": "4n65pFjIn_E9",
        "outputId": "6d19eb9a-c595-4c17-9436-d39bc74fb773"
      },
      "source": [
        "predictions = tree.predict(X_test)\n",
        "print(classification_report(predictions, y_test))"
      ],
      "execution_count": null,
      "outputs": [
        {
          "output_type": "stream",
          "text": [
            "              precision    recall  f1-score   support\n",
            "\n",
            "           0       0.97      0.97      0.97       996\n",
            "           1       0.99      0.99      0.99      2927\n",
            "\n",
            "    accuracy                           0.99      3923\n",
            "   macro avg       0.98      0.98      0.98      3923\n",
            "weighted avg       0.99      0.99      0.99      3923\n",
            "\n"
          ],
          "name": "stdout"
        }
      ]
    },
    {
      "cell_type": "code",
      "metadata": {
        "id": "XaxvjOqT60z6"
      },
      "source": [
        "# tree.feature_importances_ ta3tina impact ta3 kol colonne dans l'ordre, w ken tree 3andha il faza hedhi\n",
        "\n",
        "sorted(list(zip(tree.feature_importances_, dataset.columns)), reverse=True)\n",
        "# bil faza hedhi 3rafna anehom aham les features li athrou fil modele\n",
        "# ki khthinehom houma barka fi 3oudh il 69 il kol, l9ina ta9riban nafs résultat (a9al b 0.003)\n",
        "# en contrepartie, rba7na 64 colonnes nist7a9ouch nlimoha fil future"
      ],
      "execution_count": null,
      "outputs": []
    },
    {
      "cell_type": "code",
      "metadata": {
        "colab": {
          "base_uri": "https://localhost:8080/"
        },
        "id": "tDdhnYLZpAM2",
        "outputId": "2d46a197-78e9-4b88-b04c-6d698ae268f6"
      },
      "source": [
        "from sklearn.metrics import confusion_matrix\n",
        "\n",
        "confusion_matrix(predictions, y_test)\n",
        "\n",
        "array([[ 975,   33],\n",
        "       [  20, 2895]])"
      ],
      "execution_count": null,
      "outputs": [
        {
          "output_type": "execute_result",
          "data": {
            "text/plain": [
              "array([[ 968,   28],\n",
              "       [  27, 2900]])"
            ]
          },
          "metadata": {
            "tags": []
          },
          "execution_count": 28
        }
      ]
    },
    {
      "cell_type": "code",
      "metadata": {
        "colab": {
          "base_uri": "https://localhost:8080/"
        },
        "id": "Tu04xyQpz-D1",
        "outputId": "b2569a1e-5618-4599-90a6-64b3224b566b"
      },
      "source": [
        "# Saving the model\n",
        "from joblib import dump\n",
        "dump(tree, 'antivirus_tree.joblib')"
      ],
      "execution_count": null,
      "outputs": [
        {
          "output_type": "execute_result",
          "data": {
            "text/plain": [
              "['antivirus_tree.joblib']"
            ]
          },
          "metadata": {
            "tags": []
          },
          "execution_count": 129
        }
      ]
    },
    {
      "cell_type": "code",
      "metadata": {
        "id": "R5xs6gH2qdnd"
      },
      "source": [
        "# Deployment \n",
        "from joblib import load\n",
        "model = load('antivirus_tree.joblib')\n",
        "\n",
        "# code bch tjib data\n",
        "input = get_data()\n",
        "\n",
        "return model.predict(input)"
      ],
      "execution_count": null,
      "outputs": []
    },
    {
      "cell_type": "markdown",
      "metadata": {
        "id": "AKQ1xmQSF2UA"
      },
      "source": [
        "## Regression: Estimation chiffre d'affaires"
      ]
    },
    {
      "cell_type": "code",
      "metadata": {
        "id": "hErYlOugF9rn"
      },
      "source": [
        "import pandas as pd\n",
        "import seaborn as sns\n",
        "import matplotlib.pyplot as plt"
      ],
      "execution_count": null,
      "outputs": []
    },
    {
      "cell_type": "code",
      "metadata": {
        "colab": {
          "base_uri": "https://localhost:8080/"
        },
        "id": "GHzfN-JoGEbQ",
        "outputId": "57701626-268e-41d3-af29-59f90d090cc2"
      },
      "source": [
        "dataset = pd.read_csv('https://raw.githubusercontent.com/elyesmanai/Datasets-for-ML-trainings/main/MarketingRawData.csv')\n",
        "dataset.shape"
      ],
      "execution_count": null,
      "outputs": [
        {
          "output_type": "execute_result",
          "data": {
            "text/plain": [
              "(182, 11)"
            ]
          },
          "metadata": {
            "tags": []
          },
          "execution_count": 257
        }
      ]
    },
    {
      "cell_type": "code",
      "metadata": {
        "id": "42eIPT3jLhI9"
      },
      "source": [
        "# na3mlou kil 3ada un baseline minghir ma nmissou chay, premature optimization is the root of all evil\n",
        "# idées de feature engineering: \n",
        "#  - takhle9 colonne Day from Date\n",
        "#  - takhle9 colonne is_weekend\n",
        "#  - takhle9 colonne is_holiday (idha 3andk api externe ta3 libled)"
      ],
      "execution_count": null,
      "outputs": []
    },
    {
      "cell_type": "code",
      "metadata": {
        "id": "Kupo-OuXGYAX"
      },
      "source": [
        "dataset.sample(5)\n",
        "# 3raft anou il y bch tkoun revenue w bch na7iw visiteurs khater mahich byidna nahna\n",
        "\n",
        "# Scénario 1: boutique offline: nombre de visiteurs iji nharitha donc najmou nit7akmou feha --> titna7a visiteurs\n",
        "# Scénario 2: boutique online: nombre de visiteurs inajem ikoun commandes fil sites du coup khlass mouch fi nharou --> tab9a visiteurs \n",
        "# khater najmou na3mlou estimation 9adeh bch ndakhlou flous minhom (prendre compte ili ibatel wili remboursé)\n",
        "\n",
        "dataset.drop(['Date'], axis=1, inplace=True)"
      ],
      "execution_count": null,
      "outputs": []
    },
    {
      "cell_type": "code",
      "metadata": {
        "id": "F__Xj7egG-Xi"
      },
      "source": [
        "# ma3anech valeure nulle\n",
        "dataset.isna().sum()\n",
        "# ma3tatni chay\n",
        "dataset.describe()\n",
        "# ma3anech mechekil m3al types\n",
        "dataset.info()"
      ],
      "execution_count": null,
      "outputs": []
    },
    {
      "cell_type": "code",
      "metadata": {
        "id": "I23RMrZ4JCYK"
      },
      "source": [
        "sns.pairplot(dataset)\n",
        "# réellement fil data numérique te3i, fama ken marketing spend li corrélé bilgde m3a revenue."
      ],
      "execution_count": null,
      "outputs": []
    },
    {
      "cell_type": "markdown",
      "metadata": {
        "id": "1OlXHe5Jn8UZ"
      },
      "source": [
        "### Outlier Removal"
      ]
    },
    {
      "cell_type": "code",
      "metadata": {
        "colab": {
          "base_uri": "https://localhost:8080/",
          "height": 567
        },
        "id": "psi0lC75LAmm",
        "outputId": "dbd5d49f-5487-4076-8a57-f1af0a2f9a6d"
      },
      "source": [
        "sns.pairplot(dataset[['Marketing Spend','Visitors','Revenue','Promo']], hue=\"Promo\")\n",
        "# Day Name ma3andouch correlation m3a Revenue ni m3a Marketing Spend\n",
        "# Promo est très bien corrélée m3a Revenue et Marketing Spend du coup nkhaliwha"
      ],
      "execution_count": null,
      "outputs": [
        {
          "output_type": "execute_result",
          "data": {
            "text/plain": [
              "<seaborn.axisgrid.PairGrid at 0x7f555ad03f10>"
            ]
          },
          "metadata": {
            "tags": []
          },
          "execution_count": 148
        },
        {
          "output_type": "display_data",
          "data": {
            "image/png": "[encoded data removed]",
            "text/plain": [
              "<Figure size 651.875x540 with 12 Axes>"
            ]
          },
          "metadata": {
            "tags": [],
            "needs_background": "light"
          }
        }
      ]
    },
    {
      "cell_type": "code",
      "metadata": {
        "id": "oszQqK5jMnUN"
      },
      "source": [
        "# Outlier removal\n",
        "dataset = dataset[ (dataset['Marketing Spend'] < 3000) & (dataset['Visitors'] < 4000)]\n",
        "features = dataset.drop(['Revenue','Visitors'], axis=1)\n",
        "labels = dataset['Revenue']"
      ],
      "execution_count": null,
      "outputs": []
    },
    {
      "cell_type": "markdown",
      "metadata": {
        "id": "sDNZIh8Cnpz4"
      },
      "source": [
        "### Categorical Encoding"
      ]
    },
    {
      "cell_type": "code",
      "metadata": {
        "id": "2b2nuuzxMyZw"
      },
      "source": [
        "# Method 1: Label Encoding: kol valeure différente min colonne bch tekhou numéro différent\n",
        "from sklearn.preprocessing import LabelEncoder\n",
        "le = LabelEncoder()\n",
        "features['Promo'] = le.fit_transform(features['Promo']) # ya9ra il uniques values w irodhom nwamer\n",
        "#le.classes_ --> ya3tik les classes dans l'ordre\n",
        "#le.inverse_transform([0,1,2]) --> hedha iraja3lik les numéros ila les classes te3hom"
      ],
      "execution_count": null,
      "outputs": []
    },
    {
      "cell_type": "code",
      "metadata": {
        "id": "Qm0tEKsIRNtk"
      },
      "source": [
        "# Method 2: One Hot Encoding: kol valeure unique bch twali colonne wa7adha\n",
        "# najmou nista3mlou onehotencoder min sklearn wa laken bch tekhou barcha codes, so bch na3mlou:\n",
        "features = pd.get_dummies(features, columns=['Promo','Day_Name'])"
      ],
      "execution_count": null,
      "outputs": []
    },
    {
      "cell_type": "markdown",
      "metadata": {
        "id": "boGpM6WhntiU"
      },
      "source": [
        "### Data Scaling"
      ]
    },
    {
      "cell_type": "code",
      "metadata": {
        "id": "iW0IzM4MhbfW"
      },
      "source": [
        "# Méthode 1: Data Normalization\n",
        "from sklearn.preprocessing import MinMaxScaler\n",
        "mms = MinMaxScaler()\n",
        "\n",
        "for col in ['Marketing Spend']:\n",
        "  features[col] = mms.fit_transform(features[[col]])\n",
        "\n",
        "labels = mms.fit_transform([labels])"
      ],
      "execution_count": null,
      "outputs": []
    },
    {
      "cell_type": "code",
      "metadata": {
        "id": "b9MF7CJCiqn_"
      },
      "source": [
        "# Méthode 2: Data Standardisation\n",
        "from sklearn.preprocessing import StandardScaler\n",
        "sc = StandardScaler()\n",
        "\n",
        "for col in ('Marketing Spend', 'Visitors'):\n",
        "  features[col] = sc.fit_transform(features[[col]])"
      ],
      "execution_count": null,
      "outputs": []
    },
    {
      "cell_type": "markdown",
      "metadata": {
        "id": "h1alUNSTn1Hs"
      },
      "source": [
        "### Modeling"
      ]
    },
    {
      "cell_type": "code",
      "metadata": {
        "id": "RmifdGPxPH6t"
      },
      "source": [
        "from sklearn.model_selection import train_test_split\n",
        "X_train, X_test, y_train, y_test = train_test_split(features, labels, test_size=0.2, random_state=42)"
      ],
      "execution_count": null,
      "outputs": []
    },
    {
      "cell_type": "code",
      "metadata": {
        "colab": {
          "base_uri": "https://localhost:8080/"
        },
        "id": "zwk7v5gJPTo1",
        "outputId": "d4da274b-f263-47c2-fb0d-a9671ca4fadf"
      },
      "source": [
        "from sklearn.linear_model import LinearRegression\n",
        "\n",
        "lr = LinearRegression()\n",
        "\n",
        "lr.fit(X_train, y_train)"
      ],
      "execution_count": null,
      "outputs": [
        {
          "output_type": "execute_result",
          "data": {
            "text/plain": [
              "LinearRegression(copy_X=True, fit_intercept=True, n_jobs=None, normalize=False)"
            ]
          },
          "metadata": {
            "tags": []
          },
          "execution_count": 252
        }
      ]
    },
    {
      "cell_type": "code",
      "metadata": {
        "colab": {
          "base_uri": "https://localhost:8080/"
        },
        "id": "OaiV39_xPafN",
        "outputId": "3ad5a70c-877e-4dcb-bbbe-aa6205ab1360"
      },
      "source": [
        "from sklearn.metrics import mean_absolute_error, mean_squared_error\n",
        "\n",
        "predictions = lr.predict(X_test)\n",
        "\n",
        "mae = mean_absolute_error(predictions, y_test)\n",
        "mse = mean_squared_error(predictions, y_test) # RMSE = Root mean square error, racine ta3 mse\n",
        "\n",
        "mae, mse = [round(x,4) for x in [mae, mse]]\n",
        "\n",
        "print(mae, mse)\n",
        "# with all features + OHE + Outlier Removel:            mae: 1920.7475 mse: 7647832.0747\n",
        "# NO VISITORS\n",
        "# label encoding, w maghir 7ata effort:                 mae: 2422.3255 mse: 11013320.2475\n",
        "# One hot encoding, w maghir 7ata effort:               mae: 2023.03   mse: 8100761.1474  \n",
        "# One hot encoding + outlier removal:                   mae: 1785.2973 mse: 6798240.207\n",
        "# One hot encoding + outlier removel + minmax scale:    mae: 1785.2973 mse: 6798240.207\n",
        "\n",
        "# WITH VISITORS\n",
        "# label encoding, w maghir 7ata effort:                 mae: 2451.0637 mse: 10980153.1616\n",
        "# One hot encoding, w maghir 7ata effort:               mae: 2023.3386 mse:  8131528.2428\n",
        "# One hot encoding + outlier removal:                   mae: 1835.4179 mse: 6437640.8061\n",
        "# One hot encoding + outlier removel + minmax scale:    mae: 1835.4179 mse: 6437640.8061\n",
        "# One hot encoding + outlier removel + standard scale:  mae: 1835.4179 mse: 6437640.8061"
      ],
      "execution_count": null,
      "outputs": [
        {
          "output_type": "stream",
          "text": [
            "1920.7475 7647832.0747\n"
          ],
          "name": "stdout"
        }
      ]
    },
    {
      "cell_type": "code",
      "metadata": {
        "id": "QdVsowUknV--"
      },
      "source": [
        "# moulakhes la7dith anou fil data hedhi il scaling mouch 9a3ed i3awen fina, donc zeyid inkamel fih\n",
        "# nkhalih juste pour rapidiser le training et l'inférence"
      ],
      "execution_count": null,
      "outputs": []
    },
    {
      "cell_type": "markdown",
      "metadata": {
        "id": "6VkBt0lrpiI7"
      },
      "source": [
        "## Classification bil mechekil"
      ]
    },
    {
      "cell_type": "code",
      "metadata": {
        "id": "f8kk_htzqGek"
      },
      "source": [
        "# wget tkhalina njibou fichier mil internet\n",
        "!wget https://archive.ics.uci.edu/ml/machine-learning-databases/00360/AirQualityUCI.zip\n",
        "# unzip ta3mel unzip\n",
        "!unzip AirQualityUCI.zip"
      ],
      "execution_count": null,
      "outputs": []
    },
    {
      "cell_type": "code",
      "metadata": {
        "id": "Ma-P9XbBqZY7"
      },
      "source": [
        "import pandas as pd"
      ],
      "execution_count": null,
      "outputs": []
    },
    {
      "cell_type": "code",
      "metadata": {
        "colab": {
          "base_uri": "https://localhost:8080/"
        },
        "id": "xtxpgMe9qbOk",
        "outputId": "09251dc3-51e6-4009-f047-f5d52167d56b"
      },
      "source": [
        "dataset = pd.read_csv('AirQualityUCI.csv', sep=';')\n",
        "dataset.shape"
      ],
      "execution_count": null,
      "outputs": [
        {
          "output_type": "execute_result",
          "data": {
            "text/plain": [
              "(9471, 17)"
            ]
          },
          "metadata": {
            "tags": []
          },
          "execution_count": 266
        }
      ]
    },
    {
      "cell_type": "code",
      "metadata": {
        "colab": {
          "base_uri": "https://localhost:8080/",
          "height": 225
        },
        "id": "oaqB21G-qmFd",
        "outputId": "1ca9541a-9e73-42ee-ba3f-a35796f29a7d"
      },
      "source": [
        "dataset.head()"
      ],
      "execution_count": null,
      "outputs": [
        {
          "output_type": "execute_result",
          "data": {
            "text/html": [
              "<div>\n",
              "<style scoped>\n",
              "    .dataframe tbody tr th:only-of-type {\n",
              "        vertical-align: middle;\n",
              "    }\n",
              "\n",
              "    .dataframe tbody tr th {\n",
              "        vertical-align: top;\n",
              "    }\n",
              "\n",
              "    .dataframe thead th {\n",
              "        text-align: right;\n",
              "    }\n",
              "</style>\n",
              "<table border=\"1\" class=\"dataframe\">\n",
              "  <thead>\n",
              "    <tr style=\"text-align: right;\">\n",
              "      <th></th>\n",
              "      <th>Date</th>\n",
              "      <th>Time</th>\n",
              "      <th>CO(GT)</th>\n",
              "      <th>PT08.S1(CO)</th>\n",
              "      <th>NMHC(GT)</th>\n",
              "      <th>C6H6(GT)</th>\n",
              "      <th>PT08.S2(NMHC)</th>\n",
              "      <th>NOx(GT)</th>\n",
              "      <th>PT08.S3(NOx)</th>\n",
              "      <th>NO2(GT)</th>\n",
              "      <th>PT08.S4(NO2)</th>\n",
              "      <th>PT08.S5(O3)</th>\n",
              "      <th>T</th>\n",
              "      <th>RH</th>\n",
              "      <th>AH</th>\n",
              "    </tr>\n",
              "  </thead>\n",
              "  <tbody>\n",
              "    <tr>\n",
              "      <th>0</th>\n",
              "      <td>10/03/2004</td>\n",
              "      <td>18</td>\n",
              "      <td>2.6</td>\n",
              "      <td>1360.0</td>\n",
              "      <td>150.0</td>\n",
              "      <td>11.9</td>\n",
              "      <td>1046.0</td>\n",
              "      <td>166.0</td>\n",
              "      <td>1056.0</td>\n",
              "      <td>113.0</td>\n",
              "      <td>1692.0</td>\n",
              "      <td>1268.0</td>\n",
              "      <td>13.6</td>\n",
              "      <td>48.9</td>\n",
              "      <td>0.7578</td>\n",
              "    </tr>\n",
              "    <tr>\n",
              "      <th>1</th>\n",
              "      <td>10/03/2004</td>\n",
              "      <td>19</td>\n",
              "      <td>2.0</td>\n",
              "      <td>1292.0</td>\n",
              "      <td>112.0</td>\n",
              "      <td>9.4</td>\n",
              "      <td>955.0</td>\n",
              "      <td>103.0</td>\n",
              "      <td>1174.0</td>\n",
              "      <td>92.0</td>\n",
              "      <td>1559.0</td>\n",
              "      <td>972.0</td>\n",
              "      <td>13.3</td>\n",
              "      <td>47.7</td>\n",
              "      <td>0.7255</td>\n",
              "    </tr>\n",
              "    <tr>\n",
              "      <th>2</th>\n",
              "      <td>10/03/2004</td>\n",
              "      <td>20</td>\n",
              "      <td>2.2</td>\n",
              "      <td>1402.0</td>\n",
              "      <td>88.0</td>\n",
              "      <td>9.0</td>\n",
              "      <td>939.0</td>\n",
              "      <td>131.0</td>\n",
              "      <td>1140.0</td>\n",
              "      <td>114.0</td>\n",
              "      <td>1555.0</td>\n",
              "      <td>1074.0</td>\n",
              "      <td>11.9</td>\n",
              "      <td>54.0</td>\n",
              "      <td>0.7502</td>\n",
              "    </tr>\n",
              "    <tr>\n",
              "      <th>3</th>\n",
              "      <td>10/03/2004</td>\n",
              "      <td>21</td>\n",
              "      <td>2.2</td>\n",
              "      <td>1376.0</td>\n",
              "      <td>80.0</td>\n",
              "      <td>9.2</td>\n",
              "      <td>948.0</td>\n",
              "      <td>172.0</td>\n",
              "      <td>1092.0</td>\n",
              "      <td>122.0</td>\n",
              "      <td>1584.0</td>\n",
              "      <td>1203.0</td>\n",
              "      <td>11.0</td>\n",
              "      <td>60.0</td>\n",
              "      <td>0.7867</td>\n",
              "    </tr>\n",
              "    <tr>\n",
              "      <th>4</th>\n",
              "      <td>10/03/2004</td>\n",
              "      <td>22</td>\n",
              "      <td>1.6</td>\n",
              "      <td>1272.0</td>\n",
              "      <td>51.0</td>\n",
              "      <td>6.5</td>\n",
              "      <td>836.0</td>\n",
              "      <td>131.0</td>\n",
              "      <td>1205.0</td>\n",
              "      <td>116.0</td>\n",
              "      <td>1490.0</td>\n",
              "      <td>1110.0</td>\n",
              "      <td>11.2</td>\n",
              "      <td>59.6</td>\n",
              "      <td>0.7888</td>\n",
              "    </tr>\n",
              "  </tbody>\n",
              "</table>\n",
              "</div>"
            ],
            "text/plain": [
              "         Date  Time  CO(GT)  PT08.S1(CO)  ...  PT08.S5(O3)     T    RH      AH\n",
              "0  10/03/2004    18     2.6       1360.0  ...       1268.0  13.6  48.9  0.7578\n",
              "1  10/03/2004    19     2.0       1292.0  ...        972.0  13.3  47.7  0.7255\n",
              "2  10/03/2004    20     2.2       1402.0  ...       1074.0  11.9  54.0  0.7502\n",
              "3  10/03/2004    21     2.2       1376.0  ...       1203.0  11.0  60.0  0.7867\n",
              "4  10/03/2004    22     1.6       1272.0  ...       1110.0  11.2  59.6  0.7888\n",
              "\n",
              "[5 rows x 15 columns]"
            ]
          },
          "metadata": {
            "tags": []
          },
          "execution_count": 311
        }
      ]
    },
    {
      "cell_type": "code",
      "metadata": {
        "colab": {
          "base_uri": "https://localhost:8080/",
          "height": 442
        },
        "id": "Xu3PVeCq0VRv",
        "outputId": "06ddd4af-f1f9-45ce-d73c-150773e82b1b"
      },
      "source": [
        "from sklearn.preprocessing import LabelEncoder\n",
        "\n",
        "le = LabelEncoder()\n",
        "dataset['Time'] = le.fit_transform(dataset['Time'])\n",
        "dataset.rename(columns={'Time': 'Hour'})"
      ],
      "execution_count": null,
      "outputs": [
        {
          "output_type": "execute_result",
          "data": {
            "text/html": [
              "<div>\n",
              "<style scoped>\n",
              "    .dataframe tbody tr th:only-of-type {\n",
              "        vertical-align: middle;\n",
              "    }\n",
              "\n",
              "    .dataframe tbody tr th {\n",
              "        vertical-align: top;\n",
              "    }\n",
              "\n",
              "    .dataframe thead th {\n",
              "        text-align: right;\n",
              "    }\n",
              "</style>\n",
              "<table border=\"1\" class=\"dataframe\">\n",
              "  <thead>\n",
              "    <tr style=\"text-align: right;\">\n",
              "      <th></th>\n",
              "      <th>Date</th>\n",
              "      <th>Hour</th>\n",
              "      <th>CO(GT)</th>\n",
              "      <th>PT08.S1(CO)</th>\n",
              "      <th>NMHC(GT)</th>\n",
              "      <th>C6H6(GT)</th>\n",
              "      <th>PT08.S2(NMHC)</th>\n",
              "      <th>NOx(GT)</th>\n",
              "      <th>PT08.S3(NOx)</th>\n",
              "      <th>NO2(GT)</th>\n",
              "      <th>PT08.S4(NO2)</th>\n",
              "      <th>PT08.S5(O3)</th>\n",
              "      <th>T</th>\n",
              "      <th>RH</th>\n",
              "      <th>AH</th>\n",
              "    </tr>\n",
              "  </thead>\n",
              "  <tbody>\n",
              "    <tr>\n",
              "      <th>0</th>\n",
              "      <td>10/03/2004</td>\n",
              "      <td>18</td>\n",
              "      <td>2.6</td>\n",
              "      <td>1360.0</td>\n",
              "      <td>150.000000</td>\n",
              "      <td>11.9</td>\n",
              "      <td>1046.0</td>\n",
              "      <td>166.0</td>\n",
              "      <td>1056.0</td>\n",
              "      <td>113.0</td>\n",
              "      <td>1692.0</td>\n",
              "      <td>1268.0</td>\n",
              "      <td>13.6</td>\n",
              "      <td>48.9</td>\n",
              "      <td>0.7578</td>\n",
              "    </tr>\n",
              "    <tr>\n",
              "      <th>1</th>\n",
              "      <td>10/03/2004</td>\n",
              "      <td>19</td>\n",
              "      <td>2.0</td>\n",
              "      <td>1292.0</td>\n",
              "      <td>112.000000</td>\n",
              "      <td>9.4</td>\n",
              "      <td>955.0</td>\n",
              "      <td>103.0</td>\n",
              "      <td>1174.0</td>\n",
              "      <td>92.0</td>\n",
              "      <td>1559.0</td>\n",
              "      <td>972.0</td>\n",
              "      <td>13.3</td>\n",
              "      <td>47.7</td>\n",
              "      <td>0.7255</td>\n",
              "    </tr>\n",
              "    <tr>\n",
              "      <th>2</th>\n",
              "      <td>10/03/2004</td>\n",
              "      <td>20</td>\n",
              "      <td>2.2</td>\n",
              "      <td>1402.0</td>\n",
              "      <td>88.000000</td>\n",
              "      <td>9.0</td>\n",
              "      <td>939.0</td>\n",
              "      <td>131.0</td>\n",
              "      <td>1140.0</td>\n",
              "      <td>114.0</td>\n",
              "      <td>1555.0</td>\n",
              "      <td>1074.0</td>\n",
              "      <td>11.9</td>\n",
              "      <td>54.0</td>\n",
              "      <td>0.7502</td>\n",
              "    </tr>\n",
              "    <tr>\n",
              "      <th>3</th>\n",
              "      <td>10/03/2004</td>\n",
              "      <td>21</td>\n",
              "      <td>2.2</td>\n",
              "      <td>1376.0</td>\n",
              "      <td>80.000000</td>\n",
              "      <td>9.2</td>\n",
              "      <td>948.0</td>\n",
              "      <td>172.0</td>\n",
              "      <td>1092.0</td>\n",
              "      <td>122.0</td>\n",
              "      <td>1584.0</td>\n",
              "      <td>1203.0</td>\n",
              "      <td>11.0</td>\n",
              "      <td>60.0</td>\n",
              "      <td>0.7867</td>\n",
              "    </tr>\n",
              "    <tr>\n",
              "      <th>4</th>\n",
              "      <td>10/03/2004</td>\n",
              "      <td>22</td>\n",
              "      <td>1.6</td>\n",
              "      <td>1272.0</td>\n",
              "      <td>51.000000</td>\n",
              "      <td>6.5</td>\n",
              "      <td>836.0</td>\n",
              "      <td>131.0</td>\n",
              "      <td>1205.0</td>\n",
              "      <td>116.0</td>\n",
              "      <td>1490.0</td>\n",
              "      <td>1110.0</td>\n",
              "      <td>11.2</td>\n",
              "      <td>59.6</td>\n",
              "      <td>0.7888</td>\n",
              "    </tr>\n",
              "    <tr>\n",
              "      <th>...</th>\n",
              "      <td>...</td>\n",
              "      <td>...</td>\n",
              "      <td>...</td>\n",
              "      <td>...</td>\n",
              "      <td>...</td>\n",
              "      <td>...</td>\n",
              "      <td>...</td>\n",
              "      <td>...</td>\n",
              "      <td>...</td>\n",
              "      <td>...</td>\n",
              "      <td>...</td>\n",
              "      <td>...</td>\n",
              "      <td>...</td>\n",
              "      <td>...</td>\n",
              "      <td>...</td>\n",
              "    </tr>\n",
              "    <tr>\n",
              "      <th>9352</th>\n",
              "      <td>04/04/2005</td>\n",
              "      <td>10</td>\n",
              "      <td>3.1</td>\n",
              "      <td>1314.0</td>\n",
              "      <td>218.811816</td>\n",
              "      <td>13.5</td>\n",
              "      <td>1101.0</td>\n",
              "      <td>472.0</td>\n",
              "      <td>539.0</td>\n",
              "      <td>190.0</td>\n",
              "      <td>1374.0</td>\n",
              "      <td>1729.0</td>\n",
              "      <td>21.9</td>\n",
              "      <td>29.3</td>\n",
              "      <td>0.7568</td>\n",
              "    </tr>\n",
              "    <tr>\n",
              "      <th>9353</th>\n",
              "      <td>04/04/2005</td>\n",
              "      <td>11</td>\n",
              "      <td>2.4</td>\n",
              "      <td>1163.0</td>\n",
              "      <td>218.811816</td>\n",
              "      <td>11.4</td>\n",
              "      <td>1027.0</td>\n",
              "      <td>353.0</td>\n",
              "      <td>604.0</td>\n",
              "      <td>179.0</td>\n",
              "      <td>1264.0</td>\n",
              "      <td>1269.0</td>\n",
              "      <td>24.3</td>\n",
              "      <td>23.7</td>\n",
              "      <td>0.7119</td>\n",
              "    </tr>\n",
              "    <tr>\n",
              "      <th>9354</th>\n",
              "      <td>04/04/2005</td>\n",
              "      <td>12</td>\n",
              "      <td>2.4</td>\n",
              "      <td>1142.0</td>\n",
              "      <td>218.811816</td>\n",
              "      <td>12.4</td>\n",
              "      <td>1063.0</td>\n",
              "      <td>293.0</td>\n",
              "      <td>603.0</td>\n",
              "      <td>175.0</td>\n",
              "      <td>1241.0</td>\n",
              "      <td>1092.0</td>\n",
              "      <td>26.9</td>\n",
              "      <td>18.3</td>\n",
              "      <td>0.6406</td>\n",
              "    </tr>\n",
              "    <tr>\n",
              "      <th>9355</th>\n",
              "      <td>04/04/2005</td>\n",
              "      <td>13</td>\n",
              "      <td>2.1</td>\n",
              "      <td>1003.0</td>\n",
              "      <td>218.811816</td>\n",
              "      <td>9.5</td>\n",
              "      <td>961.0</td>\n",
              "      <td>235.0</td>\n",
              "      <td>702.0</td>\n",
              "      <td>156.0</td>\n",
              "      <td>1041.0</td>\n",
              "      <td>770.0</td>\n",
              "      <td>28.3</td>\n",
              "      <td>13.5</td>\n",
              "      <td>0.5139</td>\n",
              "    </tr>\n",
              "    <tr>\n",
              "      <th>9356</th>\n",
              "      <td>04/04/2005</td>\n",
              "      <td>14</td>\n",
              "      <td>2.2</td>\n",
              "      <td>1071.0</td>\n",
              "      <td>218.811816</td>\n",
              "      <td>11.9</td>\n",
              "      <td>1047.0</td>\n",
              "      <td>265.0</td>\n",
              "      <td>654.0</td>\n",
              "      <td>168.0</td>\n",
              "      <td>1129.0</td>\n",
              "      <td>816.0</td>\n",
              "      <td>28.5</td>\n",
              "      <td>13.1</td>\n",
              "      <td>0.5028</td>\n",
              "    </tr>\n",
              "  </tbody>\n",
              "</table>\n",
              "<p>9357 rows × 15 columns</p>\n",
              "</div>"
            ],
            "text/plain": [
              "            Date  Hour  CO(GT)  PT08.S1(CO)  ...  PT08.S5(O3)     T    RH      AH\n",
              "0     10/03/2004    18     2.6       1360.0  ...       1268.0  13.6  48.9  0.7578\n",
              "1     10/03/2004    19     2.0       1292.0  ...        972.0  13.3  47.7  0.7255\n",
              "2     10/03/2004    20     2.2       1402.0  ...       1074.0  11.9  54.0  0.7502\n",
              "3     10/03/2004    21     2.2       1376.0  ...       1203.0  11.0  60.0  0.7867\n",
              "4     10/03/2004    22     1.6       1272.0  ...       1110.0  11.2  59.6  0.7888\n",
              "...          ...   ...     ...          ...  ...          ...   ...   ...     ...\n",
              "9352  04/04/2005    10     3.1       1314.0  ...       1729.0  21.9  29.3  0.7568\n",
              "9353  04/04/2005    11     2.4       1163.0  ...       1269.0  24.3  23.7  0.7119\n",
              "9354  04/04/2005    12     2.4       1142.0  ...       1092.0  26.9  18.3  0.6406\n",
              "9355  04/04/2005    13     2.1       1003.0  ...        770.0  28.3  13.5  0.5139\n",
              "9356  04/04/2005    14     2.2       1071.0  ...        816.0  28.5  13.1  0.5028\n",
              "\n",
              "[9357 rows x 15 columns]"
            ]
          },
          "metadata": {
            "tags": []
          },
          "execution_count": 312
        }
      ]
    },
    {
      "cell_type": "code",
      "metadata": {
        "colab": {
          "base_uri": "https://localhost:8080/",
          "height": 449
        },
        "id": "Gt05m5x1rAZZ",
        "outputId": "1b17fd00-b937-4e8d-e978-87bef5c3d22c"
      },
      "source": [
        "dataset.info()\n",
        "dataset.isna().sum()\n",
        "dataset[ dataset['Date'].isnull() ]\n",
        "\n",
        "# min hedha kol 3rafna anou fama 2 colonnes unnamed lezim itirou w 114 lignes kif kif"
      ],
      "execution_count": null,
      "outputs": [
        {
          "output_type": "stream",
          "text": [
            "<class 'pandas.core.frame.DataFrame'>\n",
            "Int64Index: 9357 entries, 0 to 9356\n",
            "Data columns (total 15 columns):\n",
            " #   Column         Non-Null Count  Dtype  \n",
            "---  ------         --------------  -----  \n",
            " 0   Date           9357 non-null   object \n",
            " 1   Time           9357 non-null   object \n",
            " 2   CO(GT)         9357 non-null   float64\n",
            " 3   PT08.S1(CO)    9357 non-null   float64\n",
            " 4   NMHC(GT)       9357 non-null   float64\n",
            " 5   C6H6(GT)       9357 non-null   float64\n",
            " 6   PT08.S2(NMHC)  9357 non-null   float64\n",
            " 7   NOx(GT)        9357 non-null   float64\n",
            " 8   PT08.S3(NOx)   9357 non-null   float64\n",
            " 9   NO2(GT)        9357 non-null   float64\n",
            " 10  PT08.S4(NO2)   9357 non-null   float64\n",
            " 11  PT08.S5(O3)    9357 non-null   float64\n",
            " 12  T              9357 non-null   float64\n",
            " 13  RH             9357 non-null   float64\n",
            " 14  AH             9357 non-null   float64\n",
            "dtypes: float64(13), object(2)\n",
            "memory usage: 1.1+ MB\n"
          ],
          "name": "stdout"
        },
        {
          "output_type": "execute_result",
          "data": {
            "text/html": [
              "<div>\n",
              "<style scoped>\n",
              "    .dataframe tbody tr th:only-of-type {\n",
              "        vertical-align: middle;\n",
              "    }\n",
              "\n",
              "    .dataframe tbody tr th {\n",
              "        vertical-align: top;\n",
              "    }\n",
              "\n",
              "    .dataframe thead th {\n",
              "        text-align: right;\n",
              "    }\n",
              "</style>\n",
              "<table border=\"1\" class=\"dataframe\">\n",
              "  <thead>\n",
              "    <tr style=\"text-align: right;\">\n",
              "      <th></th>\n",
              "      <th>Date</th>\n",
              "      <th>Time</th>\n",
              "      <th>CO(GT)</th>\n",
              "      <th>PT08.S1(CO)</th>\n",
              "      <th>NMHC(GT)</th>\n",
              "      <th>C6H6(GT)</th>\n",
              "      <th>PT08.S2(NMHC)</th>\n",
              "      <th>NOx(GT)</th>\n",
              "      <th>PT08.S3(NOx)</th>\n",
              "      <th>NO2(GT)</th>\n",
              "      <th>PT08.S4(NO2)</th>\n",
              "      <th>PT08.S5(O3)</th>\n",
              "      <th>T</th>\n",
              "      <th>RH</th>\n",
              "      <th>AH</th>\n",
              "    </tr>\n",
              "  </thead>\n",
              "  <tbody>\n",
              "  </tbody>\n",
              "</table>\n",
              "</div>"
            ],
            "text/plain": [
              "Empty DataFrame\n",
              "Columns: [Date, Time, CO(GT), PT08.S1(CO), NMHC(GT), C6H6(GT), PT08.S2(NMHC), NOx(GT), PT08.S3(NOx), NO2(GT), PT08.S4(NO2), PT08.S5(O3), T, RH, AH]\n",
              "Index: []"
            ]
          },
          "metadata": {
            "tags": []
          },
          "execution_count": 291
        }
      ]
    },
    {
      "cell_type": "code",
      "metadata": {
        "id": "eUXRbq0gyZ71"
      },
      "source": [
        "dataset.replace(',', '.', regex=True, inplace=True)\n",
        "\n",
        "for column in ['CO(GT)', 'C6H6(GT)', 'T', 'RH', 'AH']:\n",
        "  dataset[column] = dataset[column].astype(float)"
      ],
      "execution_count": null,
      "outputs": []
    },
    {
      "cell_type": "code",
      "metadata": {
        "id": "t_Rfx3dprYW9"
      },
      "source": [
        "# Dealing with missing Data case 1: NaN rows/Columns --> Dropping rows / columns \n",
        "dataset.drop(['Unnamed: 15', 'Unnamed: 16'], axis=1, inplace=True)\n",
        "dataset.dropna(how=\"all\", inplace=True)"
      ],
      "execution_count": null,
      "outputs": []
    },
    {
      "cell_type": "code",
      "metadata": {
        "id": "NyLwdOWKtACo"
      },
      "source": [
        "# ki tfasakh des lignes, inajmou ikounou fi wist il dataset du coup tihlik l'ordre des lignes\n",
        "# du coup juste na3mlou reset lil index pour ca. Fama des cas win c'est très important kima time series\n",
        "dataset.reset_index()"
      ],
      "execution_count": null,
      "outputs": []
    },
    {
      "cell_type": "code",
      "metadata": {
        "colab": {
          "base_uri": "https://localhost:8080/",
          "height": 1000
        },
        "id": "GJhUi8HetbHz",
        "outputId": "3c3c3e72-02a1-424e-de49-376400207003"
      },
      "source": [
        "dataset.hist(figsize=(15,15))\n",
        "# chla9na b fama haja bizarre m3al -200 w ki rina il description 3rafna anou birasmi"
      ],
      "execution_count": null,
      "outputs": [
        {
          "output_type": "execute_result",
          "data": {
            "text/plain": [
              "array([[<matplotlib.axes._subplots.AxesSubplot object at 0x7f5558d349d0>,\n",
              "        <matplotlib.axes._subplots.AxesSubplot object at 0x7f55593fc8d0>,\n",
              "        <matplotlib.axes._subplots.AxesSubplot object at 0x7f5558cb5d50>,\n",
              "        <matplotlib.axes._subplots.AxesSubplot object at 0x7f5558c76310>],\n",
              "       [<matplotlib.axes._subplots.AxesSubplot object at 0x7f5558c28890>,\n",
              "        <matplotlib.axes._subplots.AxesSubplot object at 0x7f5558c5ee10>,\n",
              "        <matplotlib.axes._subplots.AxesSubplot object at 0x7f5558ba0450>,\n",
              "        <matplotlib.axes._subplots.AxesSubplot object at 0x7f5558bd7910>],\n",
              "       [<matplotlib.axes._subplots.AxesSubplot object at 0x7f5558bd7950>,\n",
              "        <matplotlib.axes._subplots.AxesSubplot object at 0x7f5558b89fd0>,\n",
              "        <matplotlib.axes._subplots.AxesSubplot object at 0x7f5558b03a10>,\n",
              "        <matplotlib.axes._subplots.AxesSubplot object at 0x7f5558ab8f90>],\n",
              "       [<matplotlib.axes._subplots.AxesSubplot object at 0x7f5558a7a550>,\n",
              "        <matplotlib.axes._subplots.AxesSubplot object at 0x7f5558a2fad0>,\n",
              "        <matplotlib.axes._subplots.AxesSubplot object at 0x7f5558a5ab90>,\n",
              "        <matplotlib.axes._subplots.AxesSubplot object at 0x7f555bc9afd0>]],\n",
              "      dtype=object)"
            ]
          },
          "metadata": {
            "tags": []
          },
          "execution_count": 314
        },
        {
          "output_type": "display_data",
          "data": {
            "image/png": "[encoded data removed]",
            "text/plain": [
              "<Figure size 1080x1080 with 16 Axes>"
            ]
          },
          "metadata": {
            "tags": [],
            "needs_background": "light"
          }
        }
      ]
    },
    {
      "cell_type": "code",
      "metadata": {
        "id": "Vm6_Sk9FuI-y"
      },
      "source": [
        "# Dealing with missing Data use case 2: missing singular values --> filling"
      ],
      "execution_count": null,
      "outputs": []
    },
    {
      "cell_type": "code",
      "metadata": {
        "id": "vUWOsOM-x85Q"
      },
      "source": [
        "dataset"
      ],
      "execution_count": null,
      "outputs": []
    },
    {
      "cell_type": "code",
      "metadata": {
        "id": "NK7T3XWiu5DH"
      },
      "source": [
        "# Method 1: Sklearn\n",
        "from sklearn.impute import SimpleImputer\n",
        "\n",
        "imp = SimpleImputer(missing_values=-200, strategy=\"mean\")\n",
        "for column in dataset.columns.values[2:]:\n",
        "  dataset[column] = imp.fit_transform(dataset[[column]])"
      ],
      "execution_count": null,
      "outputs": []
    },
    {
      "cell_type": "code",
      "metadata": {
        "id": "NUAYbu8TxxWo"
      },
      "source": [
        "# Method 2: Pandas\n",
        "dataset.fillna(valeur) # NaNs KOL fil dataset iwaliw valeur\n",
        "dataset['RH'].fillna(valeur) # NaNs KOL fil colonne iwaliw valeur\n",
        "\n",
        "dataset.fillna({\n",
        "    \"RH\": 1,\n",
        "    \"T\": 0.5,\n",
        "    \"Date\": \"Lyouma\"\n",
        "})\n",
        "\n",
        "dataset.fillna(method='backfill', inplace=True)"
      ],
      "execution_count": null,
      "outputs": []
    },
    {
      "cell_type": "code",
      "metadata": {
        "id": "S6XsBK4Z1F1M"
      },
      "source": [
        "dataset.to_csv('preprocessed_AirQualityUCI.csv', index=False)"
      ],
      "execution_count": null,
      "outputs": []
    }
  ]
}